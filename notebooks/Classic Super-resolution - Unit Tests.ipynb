{
 "cells": [
  {
   "cell_type": "code",
   "execution_count": 1,
   "id": "28300597-f811-4483-baf3-99168cf55488",
   "metadata": {},
   "outputs": [
    {
     "name": "stdout",
     "output_type": "stream",
     "text": [
      "Requirement already satisfied: pytest in /usr/local/lib/python3.10/dist-packages (7.2.1)\n",
      "Requirement already satisfied: ipytest in /usr/local/lib/python3.10/dist-packages (0.13.0)\n",
      "Requirement already satisfied: packaging in /usr/local/lib/python3.10/dist-packages (from pytest) (21.3)\n",
      "Requirement already satisfied: iniconfig in /usr/local/lib/python3.10/dist-packages (from pytest) (2.0.0)\n",
      "Requirement already satisfied: pluggy<2.0,>=0.12 in /usr/local/lib/python3.10/dist-packages (from pytest) (1.0.0)\n",
      "Requirement already satisfied: tomli>=1.0.0 in /usr/local/lib/python3.10/dist-packages (from pytest) (2.0.1)\n",
      "Requirement already satisfied: attrs>=19.2.0 in /usr/local/lib/python3.10/dist-packages (from pytest) (21.4.0)\n",
      "Requirement already satisfied: exceptiongroup>=1.0.0rc8 in /usr/local/lib/python3.10/dist-packages (from pytest) (1.1.0)\n",
      "Requirement already satisfied: ipython in /usr/local/lib/python3.10/dist-packages (from ipytest) (8.1.1)\n",
      "Requirement already satisfied: decorator in /usr/local/lib/python3.10/dist-packages (from ipython->ipytest) (5.1.1)\n",
      "Requirement already satisfied: setuptools>=18.5 in /usr/local/lib/python3.10/dist-packages (from ipython->ipytest) (65.5.0)\n",
      "Requirement already satisfied: traitlets>=5 in /usr/local/lib/python3.10/dist-packages (from ipython->ipytest) (5.1.1)\n",
      "Requirement already satisfied: jedi>=0.16 in /usr/local/lib/python3.10/dist-packages (from ipython->ipytest) (0.18.1)\n",
      "Requirement already satisfied: stack-data in /usr/local/lib/python3.10/dist-packages (from ipython->ipytest) (0.2.0)\n",
      "Requirement already satisfied: matplotlib-inline in /usr/local/lib/python3.10/dist-packages (from ipython->ipytest) (0.1.3)\n",
      "Requirement already satisfied: backcall in /usr/local/lib/python3.10/dist-packages (from ipython->ipytest) (0.2.0)\n",
      "Requirement already satisfied: prompt-toolkit!=3.0.0,!=3.0.1,<3.1.0,>=2.0.0 in /usr/local/lib/python3.10/dist-packages (from ipython->ipytest) (3.0.28)\n",
      "Requirement already satisfied: pickleshare in /usr/local/lib/python3.10/dist-packages (from ipython->ipytest) (0.7.5)\n",
      "Requirement already satisfied: pygments>=2.4.0 in /usr/local/lib/python3.10/dist-packages (from ipython->ipytest) (2.11.2)\n",
      "Requirement already satisfied: pexpect>4.3 in /usr/local/lib/python3.10/dist-packages (from ipython->ipytest) (4.8.0)\n",
      "Requirement already satisfied: pyparsing!=3.0.5,>=2.0.2 in /usr/local/lib/python3.10/dist-packages (from packaging->pytest) (3.0.7)\n",
      "Requirement already satisfied: parso<0.9.0,>=0.8.0 in /usr/local/lib/python3.10/dist-packages (from jedi>=0.16->ipython->ipytest) (0.8.3)\n",
      "Requirement already satisfied: ptyprocess>=0.5 in /usr/local/lib/python3.10/dist-packages (from pexpect>4.3->ipython->ipytest) (0.7.0)\n",
      "Requirement already satisfied: wcwidth in /usr/local/lib/python3.10/dist-packages (from prompt-toolkit!=3.0.0,!=3.0.1,<3.1.0,>=2.0.0->ipython->ipytest) (0.2.5)\n",
      "Requirement already satisfied: asttokens in /usr/local/lib/python3.10/dist-packages (from stack-data->ipython->ipytest) (2.0.5)\n",
      "Requirement already satisfied: executing in /usr/local/lib/python3.10/dist-packages (from stack-data->ipython->ipytest) (0.8.3)\n",
      "Requirement already satisfied: pure-eval in /usr/local/lib/python3.10/dist-packages (from stack-data->ipython->ipytest) (0.2.2)\n",
      "Requirement already satisfied: six in /usr/local/lib/python3.10/dist-packages (from asttokens->stack-data->ipython->ipytest) (1.16.0)\n",
      "\u001b[33mWARNING: Running pip as the 'root' user can result in broken permissions and conflicting behaviour with the system package manager. It is recommended to use a virtual environment instead: https://pip.pypa.io/warnings/venv\u001b[0m\u001b[33m\n",
      "\u001b[0m\n",
      "\u001b[1m[\u001b[0m\u001b[34;49mnotice\u001b[0m\u001b[1;39;49m]\u001b[0m\u001b[39;49m A new release of pip available: \u001b[0m\u001b[31;49m22.3\u001b[0m\u001b[39;49m -> \u001b[0m\u001b[32;49m23.0.1\u001b[0m\n",
      "\u001b[1m[\u001b[0m\u001b[34;49mnotice\u001b[0m\u001b[1;39;49m]\u001b[0m\u001b[39;49m To update, run: \u001b[0m\u001b[32;49mpython3 -m pip install --upgrade pip\u001b[0m\n"
     ]
    }
   ],
   "source": [
    "# Naughty hack...\n",
    "import sys\n",
    "!{sys.executable} -m pip install pytest ipytest"
   ]
  },
  {
   "cell_type": "code",
   "execution_count": 2,
   "id": "48102c4c-5403-43cc-84e6-aed59c400146",
   "metadata": {},
   "outputs": [],
   "source": [
    "import pytest\n",
    "import ipytest\n",
    "\n",
    "from skimage import data, io\n",
    "from skimage.color import rgb2gray\n",
    "from skimage.transform import resize\n",
    "from scipy import ndimage\n",
    "\n",
    "from linear_system_super_resolution import *\n",
    "\n",
    "ipytest.autoconfig()\n",
    "\n",
    "# Unit testing support functions\n",
    "def sum_of_submatrix(matrix, x, y, x_width, y_width):\n",
    "    return np.sum(matrix[y:y+y_width, x:x+x_width])"
   ]
  },
  {
   "cell_type": "markdown",
   "id": "20d562a3-3f0d-457f-97d0-c64c1df83e75",
   "metadata": {},
   "source": [
    "### Unit test development code block"
   ]
  },
  {
   "cell_type": "code",
   "execution_count": null,
   "id": "7d62d21d-452f-4552-bf49-a0715437a686",
   "metadata": {},
   "outputs": [],
   "source": []
  },
  {
   "cell_type": "markdown",
   "id": "04a690cc-e3fe-4a09-a1f0-875c88691e40",
   "metadata": {},
   "source": [
    "### Unit tests"
   ]
  },
  {
   "cell_type": "code",
   "execution_count": 3,
   "id": "0979e068-173c-46ab-9fe6-0c85701a3651",
   "metadata": {},
   "outputs": [],
   "source": [
    "# Test checks to see if decimation via matrix operation is equivalent to decimation by localised summation of a 2D numpy matrix\n",
    "def test_decimate_matrix():\n",
    "    high_res_num_pixels = 32\n",
    "    low_res_num_pixel = 16\n",
    "    downsample = high_res_num_pixels // low_res_num_pixel\n",
    "    d_mat = decimation_matrix(high_res_num_pixels, downsample)\n",
    "    high_res_img = resize(rgb2gray(data.astronaut()), (high_res_num_pixels, high_res_num_pixels), anti_aliasing=True)\n",
    "    low_res_img = d_mat @ high_res_img.flatten()\n",
    "    low_res_sampling_points_1d = np.arange(low_res_num_pixel) * downsample\n",
    "    low_res_sampling_points_2d = np.array(np.meshgrid(low_res_sampling_points_1d, low_res_sampling_points_1d)).T.reshape(-1,2)\n",
    "    sums = np.vectorize(sum_of_submatrix, excluded=[0])(high_res_img, low_res_sampling_points_2d[:, 1], low_res_sampling_points_2d[:, 0], downsample, downsample)\n",
    "    assert np.array_equal(sums, low_res_img)"
   ]
  },
  {
   "cell_type": "code",
   "execution_count": 4,
   "id": "e283e0e0-e906-463e-8bd6-c001e3267aea",
   "metadata": {},
   "outputs": [],
   "source": [
    "def test_decimate_matrix_transpose():\n",
    "    assert False"
   ]
  },
  {
   "cell_type": "code",
   "execution_count": 5,
   "id": "30911117-817e-40fe-a46f-80212e72a920",
   "metadata": {},
   "outputs": [],
   "source": [
    "# Test checks to see if convolution of a 2D filter (i.e., gaussian) via matrix operator is equivalent to a standard image convolution\n",
    "def test_convolution_via_matrix():\n",
    "    image_dimension = 32\n",
    "    img = resize(rgb2gray(data.astronaut()), (image_dimension, image_dimension), anti_aliasing=True)\n",
    "    gauss = gaussian_2d(11)\n",
    "    img_smoothed = ndimage.convolve(img, gauss, mode='constant')\n",
    "    smoothing_matrix = generate_h_matrix(image_dimension, gauss)\n",
    "    img_smoothed_via_matrix =  (smoothing_matrix @ img.flatten()).reshape(image_dimension, image_dimension)\n",
    "    assert np.allclose(img_smoothed, img_smoothed_via_matrix)"
   ]
  },
  {
   "cell_type": "code",
   "execution_count": 6,
   "id": "cd1ab2e6-1e4d-40e9-be35-5859a30851f0",
   "metadata": {},
   "outputs": [],
   "source": [
    "# Test checks to see if convolution of a 2D filter (i.e., gaussian) via matrix operator (tranposed) is equivalent to a standard image convolution\n",
    "def test_convolution_via_matrix_transpose():\n",
    "    high_res_num_pixels = 32\n",
    "    img = resize(rgb2gray(data.astronaut()), (high_res_num_pixels, high_res_num_pixels), anti_aliasing=True)\n",
    "    gauss = gaussian_2d(11)\n",
    "    img_smoothed = ndimage.convolve(img, gauss, mode='constant')\n",
    "    smoothing_matrix = generate_h_matrix(high_res_num_pixels, gauss)\n",
    "    img_smoothed_via_matrix =  (smoothing_matrix.T @ img.flatten()).reshape(high_res_num_pixels, high_res_num_pixels)\n",
    "    assert np.allclose(img_smoothed, img_smoothed_via_matrix)"
   ]
  },
  {
   "cell_type": "code",
   "execution_count": 7,
   "id": "a327baf8-60fe-4f9e-a5b5-569f51590eb5",
   "metadata": {},
   "outputs": [],
   "source": [
    "# Test checks to see if independant matrix operations (convolution followed by decimation) is equivalent to a combined conv-deci matrix operator\n",
    "def test_decimate_and_convolution_matrix():\n",
    "    high_res_num_pixels = 128\n",
    "    low_res_num_pixel = 32\n",
    "    downsample = high_res_num_pixels // low_res_num_pixel\n",
    "    high_res_img = resize(rgb2gray(data.astronaut()), (high_res_num_pixels, high_res_num_pixels), anti_aliasing=True)\n",
    "    gauss = gaussian_2d(21)\n",
    "    \n",
    "    # Independant convolution operation\n",
    "    smoothing_matrix = generate_h_matrix(high_res_num_pixels, gauss)\n",
    "    high_res_img_smoothed = smoothing_matrix @ high_res_img.flatten()\n",
    "    \n",
    "    # Independant decimation operation\n",
    "    d_mat = decimation_matrix(high_res_num_pixels, downsample)\n",
    "    low_res_img_smoothed = d_mat @ high_res_img_smoothed\n",
    "    \n",
    "    # Combined conv-deci operation\n",
    "    dh_mat = generate_dh_matrix_batched(gauss, high_res_num_pixels, downsample, low_res_num_pixel**2)\n",
    "    low_res_img_smoothed_combo = dh_mat @ high_res_img.flatten()\n",
    "    \n",
    "    assert np.allclose(low_res_img_smoothed, low_res_img_smoothed_combo)"
   ]
  },
  {
   "cell_type": "code",
   "execution_count": 8,
   "id": "61cd0af8-f119-470d-898b-43d17aef6cac",
   "metadata": {},
   "outputs": [],
   "source": [
    "def test_decimate_and_convolution_matrix_transpose():\n",
    "    assert False"
   ]
  },
  {
   "cell_type": "code",
   "execution_count": 9,
   "id": "984a1b93-5662-4aa3-ab41-93d217279655",
   "metadata": {},
   "outputs": [
    {
     "name": "stdout",
     "output_type": "stream",
     "text": [
      "\u001b[32m.\u001b[0m\u001b[31mF\u001b[0m\u001b[32m.\u001b[0m\u001b[32m.\u001b[0m\u001b[32m.\u001b[0m\u001b[31mF\u001b[0m\u001b[31m                                                                                       [100%]\u001b[0m\n",
      "============================================= FAILURES =============================================\n",
      "\u001b[31m\u001b[1m__________________________________ test_decimate_matrix_transpose __________________________________\u001b[0m\n",
      "\n",
      "    \u001b[94mdef\u001b[39;49;00m \u001b[92mtest_decimate_matrix_transpose\u001b[39;49;00m():\n",
      ">       \u001b[94massert\u001b[39;49;00m \u001b[94mFalse\u001b[39;49;00m\n",
      "\u001b[1m\u001b[31mE       assert False\u001b[0m\n",
      "\n",
      "\u001b[1m\u001b[31m/tmp/ipykernel_3662/720013556.py\u001b[0m:2: AssertionError\n",
      "\u001b[31m\u001b[1m__________________________ test_decimate_and_convolution_matrix_transpose __________________________\u001b[0m\n",
      "\n",
      "    \u001b[94mdef\u001b[39;49;00m \u001b[92mtest_decimate_and_convolution_matrix_transpose\u001b[39;49;00m():\n",
      ">       \u001b[94massert\u001b[39;49;00m \u001b[94mFalse\u001b[39;49;00m\n",
      "\u001b[1m\u001b[31mE       assert False\u001b[0m\n",
      "\n",
      "\u001b[1m\u001b[31m/tmp/ipykernel_3662/3466232387.py\u001b[0m:2: AssertionError\n",
      "\u001b[36m\u001b[1m===================================== short test summary info ======================================\u001b[0m\n",
      "\u001b[31mFAILED\u001b[0m t_d4f8798772f94c23a21b219610bed503.py::\u001b[1mtest_decimate_matrix_transpose\u001b[0m - assert False\n",
      "\u001b[31mFAILED\u001b[0m t_d4f8798772f94c23a21b219610bed503.py::\u001b[1mtest_decimate_and_convolution_matrix_transpose\u001b[0m - assert False\n",
      "\u001b[31m\u001b[31m\u001b[1m2 failed\u001b[0m, \u001b[32m4 passed\u001b[0m\u001b[31m in 5.45s\u001b[0m\u001b[0m\n"
     ]
    },
    {
     "data": {
      "text/plain": [
       "<ExitCode.TESTS_FAILED: 1>"
      ]
     },
     "execution_count": 9,
     "metadata": {},
     "output_type": "execute_result"
    }
   ],
   "source": [
    "ipytest.run()"
   ]
  },
  {
   "cell_type": "code",
   "execution_count": null,
   "id": "48de6443-5196-4376-a413-62c6eeeda21e",
   "metadata": {},
   "outputs": [],
   "source": []
  }
 ],
 "metadata": {
  "kernelspec": {
   "display_name": "Python 3 (ipykernel)",
   "language": "python",
   "name": "python3"
  },
  "language_info": {
   "codemirror_mode": {
    "name": "ipython",
    "version": 3
   },
   "file_extension": ".py",
   "mimetype": "text/x-python",
   "name": "python",
   "nbconvert_exporter": "python",
   "pygments_lexer": "ipython3",
   "version": "3.10.5"
  }
 },
 "nbformat": 4,
 "nbformat_minor": 5
}
