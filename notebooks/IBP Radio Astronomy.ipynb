{
 "cells": [
  {
   "cell_type": "code",
   "execution_count": 1,
   "id": "176cc44a-6661-4798-86f3-588405e46ae3",
   "metadata": {},
   "outputs": [],
   "source": [
    "%matplotlib widget\n",
    "\n",
    "from typing import List, Tuple\n",
    "import numpy as np\n",
    "from scipy.ndimage import zoom\n",
    "from scipy.signal import convolve2d\n",
    "from skimage.filters import gaussian\n",
    "from skimage.transform import rescale\n",
    "from skimage import data, io, color\n",
    "from skimage.util import random_noise, img_as_float32\n",
    "from skimage.exposure import rescale_intensity\n",
    "from sklearn.metrics import mean_squared_error\n",
    "import matplotlib.pyplot as plt\n",
    "import matplotlib.colors as colors"
   ]
  },
  {
   "cell_type": "code",
   "execution_count": 2,
   "id": "34cf84d8-8774-4532-92a8-cf9718fb5a17",
   "metadata": {},
   "outputs": [],
   "source": [
    "def show_images(images: List[Tuple]) -> None:\n",
    "    n: int = len(images)\n",
    "    f = plt.figure()\n",
    "    # f.set_size_inches(10, 5)\n",
    "    for i in range(n):\n",
    "        # Debug, plot figure\n",
    "        f.add_subplot(1, n, i + 1)\n",
    "        plt.imshow(images[i][0], cmap=\"inferno\")\n",
    "        # plt.hist(images[i][0].ravel(), bins=256, fc='k', ec='k')\n",
    "        plt.title(images[i][1])\n",
    "        plt.colorbar(orientation=\"horizontal\")\n",
    "        \n",
    "    plt.show()\n",
    "\n",
    "def plot_error_over_time(timesteps, error, rrmse):\n",
    "    plt.plot(range(timesteps), np.log2(error), label=\"Error (y_true, y_predict\")\n",
    "    plt.plot(range(timesteps), np.log2(rrmse), label=\"RRMSE (x_true, x_predict_k)\")\n",
    "    plt.legend()\n",
    "    # plt.xticks(range(timesteps))\n",
    "    plt.xlabel(\"Timestep (t)\")\n",
    "    plt.ylabel(\"Error\")\n",
    "    plt.show()"
   ]
  },
  {
   "cell_type": "markdown",
   "id": "c9b3c1ca-fb89-413e-bd9a-7c963b105284",
   "metadata": {},
   "source": [
    "#### Laplace deblur/sharpen kernel"
   ]
  },
  {
   "cell_type": "code",
   "execution_count": 3,
   "id": "6ee66552-a744-449c-9cb9-2aebcaebf44b",
   "metadata": {},
   "outputs": [],
   "source": [
    "laplace_scale = 1.0\n",
    "laplace_deblur = np.array([[0, -laplace_scale,  0], [-laplace_scale,  1.0 + 4*laplace_scale, -laplace_scale], [0, -laplace_scale,  0]])"
   ]
  },
  {
   "cell_type": "markdown",
   "id": "0aca0425-841a-445c-808d-95d8683f81bc",
   "metadata": {},
   "source": [
    "#### Params of algorithm execution"
   ]
  },
  {
   "cell_type": "code",
   "execution_count": 4,
   "id": "a6e8aa06-256c-472b-bb92-391b1d15969a",
   "metadata": {
    "tags": []
   },
   "outputs": [],
   "source": [
    "images_folder = \"../datasets/gleam_small/images/\"\n",
    "x_true = np.fromfile(images_folder + \"idft_ts_0_to_29.img\")\n",
    "x_img_dim = int(np.sqrt(x_true.shape)) # assumed square\n",
    "x_true = np.reshape(x_true, (x_img_dim, x_img_dim))\n",
    "x_true = rescale_intensity(x_true, out_range=(-1.0, 1.0))\n",
    "# plt.imshow(x_true, cmap=plt.cm.inferno)\n",
    "# plt.colorbar()\n",
    "# plt.show()\n",
    "\n",
    "# number of y low resolution images\n",
    "num_y_samples = 30\n",
    "# controls the size of low resolution image dimensions\n",
    "# note: use a value which results in integer arithmetic\n",
    "downsample_factor = 0.5\n",
    "y_img_dim = int(x_img_dim * downsample_factor)\n",
    "upsample_factor = np.float32(x_img_dim / y_img_dim)\n",
    "# max number of IBP loops to perform\n",
    "max_iter = np.int32(30)"
   ]
  },
  {
   "cell_type": "markdown",
   "id": "19222b2e-78c9-4523-ab1f-5e367e5f0a74",
   "metadata": {
    "tags": []
   },
   "source": [
    "#### Storage for per-iteration metrics (debugging)"
   ]
  },
  {
   "cell_type": "code",
   "execution_count": 5,
   "id": "1a0b0cd2-822a-4b73-88f2-bb2358d41330",
   "metadata": {
    "tags": []
   },
   "outputs": [],
   "source": [
    "x_estimates = np.ndarray((max_iter, x_img_dim, x_img_dim), dtype=np.float32)\n",
    "x_error = np.zeros(max_iter, dtype=np.float32)\n",
    "x_rrmse = np.zeros(max_iter, dtype=np.float32)"
   ]
  },
  {
   "cell_type": "markdown",
   "id": "664c63d7-48f4-4734-9e7a-6cbbabe87040",
   "metadata": {},
   "source": [
    "#### Generate initial low-resolution images (assumed to be from imaging device - camera, telescope, etc.)"
   ]
  },
  {
   "cell_type": "code",
   "execution_count": 6,
   "id": "28d25239-c586-4fc6-b3b5-9900a53912c2",
   "metadata": {},
   "outputs": [],
   "source": [
    "y_true = np.ndarray((num_y_samples, y_img_dim, y_img_dim), dtype=np.float32)\n",
    "\n",
    "# images_to_view = []\n",
    "\n",
    "# load y images from file\n",
    "for k in range(num_y_samples):\n",
    "    y_true[k] = np.fromfile(images_folder + f\"idft_ts_{k}.img\").reshape(y_img_dim, y_img_dim)\n",
    "    y_true[k] = rescale_intensity(y_true[k], out_range=(-1.0, 1.0))\n",
    "    # images_to_view.append((y_true[k], f\"IDFT TS {k}\"))\n",
    "\n",
    "# show_images(images_to_view)"
   ]
  },
  {
   "cell_type": "markdown",
   "id": "ad4dc09d-8e26-4eb5-86f3-e43bc1ce4c25",
   "metadata": {
    "tags": []
   },
   "source": [
    "#### Predict initial estimate of high-resolution image (x<sub>0</sub>)"
   ]
  },
  {
   "cell_type": "code",
   "execution_count": 7,
   "id": "5c3462ec-86a3-4409-9bd8-df0848f93410",
   "metadata": {},
   "outputs": [],
   "source": [
    "x_predict = rescale(np.average(y_true, axis=0), upsample_factor, order=3)\n",
    "# Note to self: what do we do about values in image being negative during processing??\n",
    "# x_predict = rescale_intensity(x_predict, out_range=(0.0, 1.0))\n",
    "# plt.imshow(x_predict, cmap=plt.cm.inferno)\n",
    "# plt.colorbar()\n",
    "# plt.show()\n",
    "\n",
    "# images_to_view = []\n",
    "\n",
    "# images_to_view.append((x_true, \"X True\"))\n",
    "# images_to_view.append((x_predict, \"X Predict\"))\n",
    "# images_to_view.append(((x_true - x_predict), \"Diff\"))\n",
    "\n",
    "# show_images(images_to_view)"
   ]
  },
  {
   "cell_type": "markdown",
   "id": "c3c3f75f-4c2c-438c-87a6-81339ff718d5",
   "metadata": {},
   "source": [
    "#### Perform IBP over t iterations"
   ]
  },
  {
   "cell_type": "code",
   "execution_count": 8,
   "id": "c997f738-42de-4b89-8905-b14aec10ab12",
   "metadata": {},
   "outputs": [
    {
     "name": "stdout",
     "output_type": "stream",
     "text": [
      "Processing iteration 0...\n",
      "Processing iteration 1...\n",
      "Processing iteration 2...\n",
      "Processing iteration 3...\n",
      "Processing iteration 4...\n",
      "Processing iteration 5...\n",
      "Processing iteration 6...\n",
      "Processing iteration 7...\n",
      "Processing iteration 8...\n",
      "Processing iteration 9...\n",
      "Processing iteration 10...\n",
      "Processing iteration 11...\n",
      "Processing iteration 12...\n",
      "Processing iteration 13...\n",
      "Processing iteration 14...\n",
      "Processing iteration 15...\n",
      "Processing iteration 16...\n",
      "Processing iteration 17...\n",
      "Processing iteration 18...\n",
      "Processing iteration 19...\n",
      "Processing iteration 20...\n",
      "Processing iteration 21...\n",
      "Processing iteration 22...\n",
      "Processing iteration 23...\n",
      "Processing iteration 24...\n",
      "Processing iteration 25...\n",
      "Processing iteration 26...\n",
      "Processing iteration 27...\n",
      "Processing iteration 28...\n",
      "Processing iteration 29...\n"
     ]
    }
   ],
   "source": [
    "# images_to_view = []\n",
    "# images_to_view.append((x_true, \"X True\"))\n",
    "# images_to_view.append((x_predict, \"Initial X Predict\"))\n",
    "\n",
    "current_iter = np.int32(0)\n",
    "\n",
    "while current_iter < max_iter:\n",
    "    print(\"Processing iteration %d...\" % current_iter)\n",
    "\n",
    "    # Predict low resolution images from high resolution image\n",
    "    # note: probably a terrible way to do it atm...\n",
    "    y_predict = np.ndarray((num_y_samples, y_img_dim, y_img_dim), dtype=np.float32)\n",
    "    for k in range(num_y_samples):\n",
    "        y_predict[k] = zoom(gaussian(x_predict), downsample_factor)\n",
    "    \n",
    "    # Calculate the error between low_res and low_res_predicted\n",
    "    l2norm_sum_squares = 0.0\n",
    "    for k in range(num_y_samples):\n",
    "        l2norm_sum_squares = l2norm_sum_squares + np.linalg.norm(y_true[k] - y_predict[k])**2\n",
    "    error = np.sqrt(1.0/num_y_samples * l2norm_sum_squares)\n",
    "    x_error[current_iter] = error\n",
    "\n",
    "    # Make high resolution version of low res predicted\n",
    "    y_true_pred_diff = zoom(y_true - y_predict, (1, int(upsample_factor), int(upsample_factor)))\n",
    "\n",
    "    # Convolve each image with sharpen filter\n",
    "    for k in range(num_y_samples):\n",
    "        # convolve with laplacian deblur, trim edges (padded during convolution)\n",
    "        y_true_pred_diff[k] = convolve2d(y_true_pred_diff[k], laplace_deblur, mode=\"same\")\n",
    "    \n",
    "    # Predict high resolution image\n",
    "    x_new_predict = np.zeros_like(x_predict)\n",
    "    sum_diff = np.sum(y_true_pred_diff, axis=0)\n",
    "    # weight = max(min(error, 1.0), 0.0) # clamp func for at most 1.0 multiplier\n",
    "    # weight = max(min(1.0/error, 1.0), 0.0)\n",
    "    weight = 0.1 # slow improvement over time\n",
    "    x_new_predict = x_predict + sum_diff * 1.0/num_y_samples * weight\n",
    "    rrmse = mean_squared_error(x_true, x_new_predict, squared=False) * 100.0\n",
    "    x_rrmse[current_iter] = rrmse\n",
    "    np.copyto(x_predict, x_new_predict)\n",
    "    # images_to_view.append((x_predict, f\"X Predict (k={current_iter})\"))\n",
    "    np.copyto(x_estimates[current_iter], x_new_predict)\n",
    "    current_iter += 1\n",
    "    \n",
    "# show_images(images_to_view)"
   ]
  },
  {
   "cell_type": "code",
   "execution_count": 43,
   "id": "cdc9d95a-1c8e-421f-9127-7f82748c29d0",
   "metadata": {},
   "outputs": [
    {
     "data": {
      "application/vnd.jupyter.widget-view+json": {
       "model_id": "8f4c1a94352c4fb8a324a27fba68b948",
       "version_major": 2,
       "version_minor": 0
      },
      "image/png": "[encoded data removed]",
      "text/html": [
       "\n",
       "            <div style=\"display: inline-block;\">\n",
       "                <div class=\"jupyter-widgets widget-label\" style=\"text-align: center;\">\n",
       "                    Figure\n",
       "                </div>\n",
       "                <img src='data:image/png;base64,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' width=640.0/>\n",
       "            </div>\n",
       "        "
      ],
      "text/plain": [
       "Canvas(toolbar=Toolbar(toolitems=[('Home', 'Reset original view', 'home', 'home'), ('Back', 'Back to previous …"
      ]
     },
     "metadata": {},
     "output_type": "display_data"
    }
   ],
   "source": [
    "# plot_error_over_time(max_iter, x_error, x_rrmse)\n",
    "\n",
    "\n",
    "images_to_view = []\n",
    "\n",
    "images_to_view.append((x_true[465:490, 240:265], \"X True\"))\n",
    "images_to_view.append((x_predict[465:490, 240:265], \"X Predict\"))\n",
    "images_to_view.append((np.absolute(x_true - x_predict)[465:490, 240:265], \"Abs Diff\"))\n",
    "\n",
    "show_images(images_to_view)"
   ]
  },
  {
   "cell_type": "code",
   "execution_count": 10,
   "id": "c1fc4ac4-086b-45bf-915f-86640276e1c7",
   "metadata": {},
   "outputs": [
    {
     "name": "stdout",
     "output_type": "stream",
     "text": [
      "Finished processing...\n"
     ]
    }
   ],
   "source": [
    "print(\"Finished processing...\")"
   ]
  },
  {
   "cell_type": "code",
   "execution_count": null,
   "id": "5b40b40f-ccef-4305-ae5b-cb90bfef4c18",
   "metadata": {},
   "outputs": [],
   "source": []
  }
 ],
 "metadata": {
  "kernelspec": {
   "display_name": "Python 3 (ipykernel)",
   "language": "python",
   "name": "python3"
  },
  "language_info": {
   "codemirror_mode": {
    "name": "ipython",
    "version": 3
   },
   "file_extension": ".py",
   "mimetype": "text/x-python",
   "name": "python",
   "nbconvert_exporter": "python",
   "pygments_lexer": "ipython3",
   "version": "3.10.4"
  }
 },
 "nbformat": 4,
 "nbformat_minor": 5
}
