{
 "cells": [
  {
   "cell_type": "code",
   "execution_count": 1,
   "id": "f3501515-8c7a-4cba-b554-126c48f44f1d",
   "metadata": {},
   "outputs": [],
   "source": [
    "%matplotlib inline\n",
    "\n",
    "import numpy as np\n",
    "# import cupy as cp\n",
    "import matplotlib.pyplot as plt\n",
    "\n",
    "plt.rcParams['figure.figsize'] = [10, 10]\n",
    "\n",
    "def show_image(image, title, flip_x_axis=False):\n",
    "    if flip_x_axis:\n",
    "        image = np.fliplr(image)\n",
    "    plt.imshow(image, cmap=plt.get_cmap(\"gray\"))\n",
    "    plt.title(title)\n",
    "    plt.colorbar()\n",
    "    plt.show()"
   ]
  },
  {
   "cell_type": "code",
   "execution_count": 5,
   "id": "b22d2d1a-bb2a-436d-8b73-85cab3acf7ea",
   "metadata": {},
   "outputs": [
    {
     "name": "stdout",
     "output_type": "stream",
     "text": [
      "l^2:                     160000\n",
      "(psf_support - 2) * m^2: 490000\n",
      "n * m^2:                 300000\n",
      "l^2 <= min((psf_support - 2) * m^2, n * m^2)?: True\n"
     ]
    }
   ],
   "source": [
    "# Calculate whether the super-resolution problem is solvable\n",
    "\n",
    "l = 400\n",
    "m = 100\n",
    "n = 30\n",
    "psf_support = 51\n",
    "\n",
    "print(f\"l^2:                     {l**2}\")\n",
    "print(f\"(psf_support - 2) * m^2: {(psf_support - 2) * m**2}\")\n",
    "print(f\"n * m^2:                 {n * m**2}\")\n",
    "print(f\"l^2 <= min((psf_support - 2) * m^2, n * m^2)?: {l**2 <= np.minimum((psf_support - 2) * m**2, n * m**2)}\")"
   ]
  },
  {
   "cell_type": "code",
   "execution_count": null,
   "id": "277ecd2f-6395-4097-80d5-81b9435c7fa5",
   "metadata": {},
   "outputs": [],
   "source": [
    "# Multiply two numpy arrays element wise and sum\n",
    "x = np.arange(1, 11)\n",
    "y = np.arange(11, 21)\n",
    "print(x)\n",
    "print(y)\n",
    "\n",
    "z = np.sum(x * y)\n",
    "print(z)"
   ]
  },
  {
   "cell_type": "code",
   "execution_count": null,
   "id": "0f78113b-41a0-43e3-8778-a10defceafa5",
   "metadata": {},
   "outputs": [],
   "source": [
    "# Passing in a numpy array of zeros and populating in a function\n",
    "\n",
    "def populate_x(x):\n",
    "    \n",
    "    for i in np.arange(x.shape[0]):\n",
    "        x[i] = i\n",
    "\n",
    "x = np.zeros(10)\n",
    "print(x)\n",
    "populate_x(x)\n",
    "print(x)"
   ]
  },
  {
   "cell_type": "code",
   "execution_count": null,
   "id": "0677ed08-0aed-4634-837b-c1aef42878a7",
   "metadata": {},
   "outputs": [],
   "source": []
  }
 ],
 "metadata": {
  "kernelspec": {
   "display_name": "Python 3 (ipykernel)",
   "language": "python",
   "name": "python3"
  },
  "language_info": {
   "codemirror_mode": {
    "name": "ipython",
    "version": 3
   },
   "file_extension": ".py",
   "mimetype": "text/x-python",
   "name": "python",
   "nbconvert_exporter": "python",
   "pygments_lexer": "ipython3",
   "version": "3.10.4"
  }
 },
 "nbformat": 4,
 "nbformat_minor": 5
}
