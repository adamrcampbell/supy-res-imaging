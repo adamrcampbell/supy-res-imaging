{
 "cells": [
  {
   "cell_type": "code",
   "execution_count": null,
   "id": "176cc44a-6661-4798-86f3-588405e46ae3",
   "metadata": {},
   "outputs": [],
   "source": [
    "%matplotlib widget\n",
    "\n",
    "from typing import List, Tuple\n",
    "import numpy as np\n",
    "from scipy.ndimage import zoom\n",
    "from scipy.signal import convolve2d\n",
    "from skimage.filters import gaussian\n",
    "from skimage.transform import rescale\n",
    "from skimage import data, io, color\n",
    "from skimage.util import random_noise, img_as_float32\n",
    "from skimage.exposure import rescale_intensity\n",
    "from sklearn.metrics import mean_squared_error\n",
    "import matplotlib.pyplot as plt"
   ]
  },
  {
   "cell_type": "code",
   "execution_count": null,
   "id": "34cf84d8-8774-4532-92a8-cf9718fb5a17",
   "metadata": {},
   "outputs": [],
   "source": [
    "def show_images(images: List[Tuple], max_cols=3) -> None:\n",
    "    n: int = len(images)\n",
    "    f = plt.figure()\n",
    "    f.set_size_inches(18.5, 10.5)\n",
    "    rows = n / max_cols\n",
    "    cols = max_cols\n",
    "    \n",
    "    for r in range(rows):\n",
    "        for c in range(cols):\n",
    "            i = r * max_cols + c\n",
    "            f.add_subplot(r, c, i)\n",
    "            plt.imshow(images[i][0], cmap=\"hot\")\n",
    "            plt.title(images[i][1])\n",
    "            plt.colorbar(orientation=\"horizontal\")\n",
    "\n",
    "    plt.show()\n",
    "\n",
    "def plot_error_over_time(timesteps, error, rrmse):\n",
    "    plt.plot(range(timesteps), np.log2(error), label=\"Error (y_true, y_predict\")\n",
    "    plt.plot(range(timesteps), np.log2(rrmse), label=\"RRMSE (x_true, x_predict_k)\")\n",
    "    plt.xticks(range(timesteps))\n",
    "    plt.xlabel(\"Timestep (t)\")\n",
    "    plt.ylabel(\"Error\")\n",
    "    plt.show()"
   ]
  },
  {
   "cell_type": "markdown",
   "id": "c9b3c1ca-fb89-413e-bd9a-7c963b105284",
   "metadata": {},
   "source": [
    "#### Laplace deblur/sharpen kernel"
   ]
  },
  {
   "cell_type": "code",
   "execution_count": null,
   "id": "6ee66552-a744-449c-9cb9-2aebcaebf44b",
   "metadata": {},
   "outputs": [],
   "source": [
    "laplace_scale = 1.0\n",
    "# laplace_deblur = np.array([[0, -1,  0], [-1,  5, -1], [0, -1,  0]], dtype=np.float32)\n",
    "laplace_deblur = np.array([[0, -laplace_scale,  0], [-laplace_scale,  1.0 + 4*laplace_scale, -laplace_scale], [0, -laplace_scale,  0]])\n",
    "# laplace_deblur = np.array([[0.0, 0.0,  0.0], [0.0,  1.0, 0.0], [0.0, 0.0,  0.0]])\n",
    "delta = np.array([[0.0, 0.0,  0.0], [0.0,  1.0, 0.0], [0.0, 0.0,  0.0]])\n",
    "\n",
    "# print(np.sum((delta - gaussian(laplace_deblur))**2))\n",
    "# io.imshow(delta-gaussian(laplace_deblur))\n",
    "# io.show()"
   ]
  },
  {
   "cell_type": "markdown",
   "id": "0aca0425-841a-445c-808d-95d8683f81bc",
   "metadata": {},
   "source": [
    "#### Params of algorithm execution"
   ]
  },
  {
   "cell_type": "code",
   "execution_count": null,
   "id": "a6e8aa06-256c-472b-bb92-391b1d15969a",
   "metadata": {
    "tags": []
   },
   "outputs": [],
   "source": [
    "x_true = color.rgb2gray(data.astronaut())\n",
    "# io.imshow(x_true, cmap=plt.cm.gray)\n",
    "# io.show()\n",
    "\n",
    "# number of y low resolution images\n",
    "num_y_samples = 10\n",
    "# controls the size of low resolution image dimensions\n",
    "# note: use a value which results in integer arithmetic\n",
    "downsample_factor = 0.5\n",
    "x_img_dim = np.int32(x_true.shape[0])\n",
    "y_img_dim = np.int32(x_img_dim * downsample_factor)\n",
    "upsample_factor = np.float32(x_img_dim / y_img_dim)\n",
    "# max number of IBP loops to perform\n",
    "max_iter = np.int32(5)"
   ]
  },
  {
   "cell_type": "markdown",
   "id": "19222b2e-78c9-4523-ab1f-5e367e5f0a74",
   "metadata": {
    "tags": []
   },
   "source": [
    "#### Storage for per-iteration metrics (debugging)"
   ]
  },
  {
   "cell_type": "code",
   "execution_count": null,
   "id": "1a0b0cd2-822a-4b73-88f2-bb2358d41330",
   "metadata": {
    "tags": []
   },
   "outputs": [],
   "source": [
    "x_estimates = np.ndarray((max_iter, x_img_dim, x_img_dim), dtype=np.float32)\n",
    "x_error = np.zeros(max_iter, dtype=np.float32)\n",
    "x_rrmse = np.zeros(max_iter, dtype=np.float32)"
   ]
  },
  {
   "cell_type": "markdown",
   "id": "664c63d7-48f4-4734-9e7a-6cbbabe87040",
   "metadata": {},
   "source": [
    "#### Generate initial low-resolution images (assumed to be from imaging device - camera, telescope, etc.)"
   ]
  },
  {
   "cell_type": "code",
   "execution_count": 42,
   "id": "28d25239-c586-4fc6-b3b5-9900a53912c2",
   "metadata": {},
   "outputs": [],
   "source": [
    "y_true = np.ndarray((num_y_samples, y_img_dim, y_img_dim), dtype=np.float32)\n",
    "\n",
    "x_true_downsampled = rescale(x_true, downsample_factor, anti_aliasing=True, order=3) # bicubic\n",
    "\n",
    "for k in range(num_y_samples):\n",
    "    y_true[k] = random_noise(x_true_downsampled)"
   ]
  },
  {
   "cell_type": "markdown",
   "id": "ad4dc09d-8e26-4eb5-86f3-e43bc1ce4c25",
   "metadata": {
    "tags": []
   },
   "source": [
    "#### Predict initial estimate of high-resolution image (x<sub>0</sub>)"
   ]
  },
  {
   "cell_type": "code",
   "execution_count": 43,
   "id": "5c3462ec-86a3-4409-9bd8-df0848f93410",
   "metadata": {},
   "outputs": [],
   "source": [
    "x_predict = rescale(np.average(y_true, axis=0), upsample_factor, order=3)\n",
    "# Note to self: what do we do about values in image being negative during processing??\n",
    "# x_predict = rescale_intensity(x_predict, out_range=(0.0, 1.0))\n",
    "# io.imshow(x_predict, cmap=plt.cm.gray)\n",
    "# io.show()"
   ]
  },
  {
   "cell_type": "markdown",
   "id": "c3c3f75f-4c2c-438c-87a6-81339ff718d5",
   "metadata": {},
   "source": [
    "#### Perform IBP over t iterations"
   ]
  },
  {
   "cell_type": "code",
   "execution_count": 44,
   "id": "c997f738-42de-4b89-8905-b14aec10ab12",
   "metadata": {},
   "outputs": [],
   "source": [
    "current_iter = np.int32(0)\n",
    "\n",
    "while current_iter < max_iter:\n",
    "    # print(\"Processing iteration %d...\" % current_iter)\n",
    "\n",
    "    # Predict low resolution images from high resolution image\n",
    "    # note: probably a terrible way to do it atm...\n",
    "    y_predict = np.ndarray((num_y_samples, y_img_dim, y_img_dim), dtype=np.float32)\n",
    "    for k in range(num_y_samples):\n",
    "        y_predict[k] = zoom(gaussian(x_predict), downsample_factor)\n",
    "    \n",
    "    # Calculate the error between low_res and low_res_predicted\n",
    "    l2norm_sum_squares = 0.0\n",
    "    for k in range(num_y_samples):\n",
    "        l2norm_sum_squares = l2norm_sum_squares + np.linalg.norm(y_true[k] - y_predict[k])**2\n",
    "    error = np.sqrt(1.0/num_y_samples * l2norm_sum_squares)\n",
    "    # print(\"Iter %d error: %f...\" % (current_iter, error))\n",
    "    x_error[current_iter] = error\n",
    "\n",
    "    # Make high resolution version of low res predicted\n",
    "    y_true_pred_diff = zoom(y_true - y_predict, (1, int(upsample_factor), int(upsample_factor)))\n",
    "\n",
    "    # Convolve each image with sharpen filter\n",
    "    for k in range(num_y_samples):\n",
    "        # convolve with laplacian deblur, trim edges (padded during convolution)\n",
    "        y_true_pred_diff[k] = convolve2d(y_true_pred_diff[k], laplace_deblur, mode=\"same\") #[1:x_img_dim+1, 1:x_img_dim+1]\n",
    "    \n",
    "    # Predict high resolution image\n",
    "    x_new_predict = np.zeros_like(x_predict)\n",
    "    sum_diff = np.sum(y_true_pred_diff, axis=0)\n",
    "    # weight = max(min(error, 1.0), 0.0) # clamp func for at most 1.0 multiplier\n",
    "    # weight = max(min(1.0/error, 1.0), 0.0)\n",
    "    weight = 0.5\n",
    "    # print(\"Iter %d weight: %f\" % (current_iter, weight))\n",
    "    x_new_predict = x_predict + sum_diff * 1.0/num_y_samples * weight\n",
    "    rrmse = mean_squared_error(x_true, x_new_predict, squared=False) * 100.0\n",
    "    # print(\"x_true min/max: %f, %f...\" % (np.min(x_true), np.max(x_true)))\n",
    "    # print(\"x_pred min/max: %f, %f...\" % (np.min(x_new_predict), np.max(x_new_predict)))\n",
    "    x_rrmse[current_iter] = rrmse\n",
    "    # print(\"Iter %d rrmse %f...\\n\" % (current_iter, rrmse))\n",
    "    np.copyto(x_predict, x_new_predict)\n",
    "    np.copyto(x_estimates[current_iter], x_new_predict)\n",
    "    current_iter += 1"
   ]
  },
  {
   "cell_type": "code",
   "execution_count": 47,
   "id": "cdc9d95a-1c8e-421f-9127-7f82748c29d0",
   "metadata": {},
   "outputs": [
    {
     "data": {
      "application/vnd.jupyter.widget-view+json": {
       "model_id": "797b009b05d14e2181e8a5ffbe5d858f",
       "version_major": 2,
       "version_minor": 0
      },
      "image/png": "[encoded data removed]",
      "text/html": [
       "\n",
       "            <div style=\"display: inline-block;\">\n",
       "                <div class=\"jupyter-widgets widget-label\" style=\"text-align: center;\">\n",
       "                    Figure\n",
       "                </div>\n",
       "                <img src='data:image/png;base64,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' width=640.0/>\n",
       "            </div>\n",
       "        "
      ],
      "text/plain": [
       "Canvas(toolbar=Toolbar(toolitems=[('Home', 'Reset original view', 'home', 'home'), ('Back', 'Back to previous …"
      ]
     },
     "metadata": {},
     "output_type": "display_data"
    }
   ],
   "source": [
    "plot_error_over_time(max_iter, x_error, x_rrmse)"
   ]
  },
  {
   "cell_type": "code",
   "execution_count": 48,
   "id": "c1fc4ac4-086b-45bf-915f-86640276e1c7",
   "metadata": {},
   "outputs": [
    {
     "name": "stdout",
     "output_type": "stream",
     "text": [
      "Finished processing...\n"
     ]
    }
   ],
   "source": [
    "print(\"Finished processing...\")"
   ]
  },
  {
   "cell_type": "code",
   "execution_count": null,
   "id": "5b40b40f-ccef-4305-ae5b-cb90bfef4c18",
   "metadata": {},
   "outputs": [],
   "source": []
  }
 ],
 "metadata": {
  "kernelspec": {
   "display_name": "Python 3 (ipykernel)",
   "language": "python",
   "name": "python3"
  },
  "language_info": {
   "codemirror_mode": {
    "name": "ipython",
    "version": 3
   },
   "file_extension": ".py",
   "mimetype": "text/x-python",
   "name": "python",
   "nbconvert_exporter": "python",
   "pygments_lexer": "ipython3",
   "version": "3.10.4"
  }
 },
 "nbformat": 4,
 "nbformat_minor": 5
}
