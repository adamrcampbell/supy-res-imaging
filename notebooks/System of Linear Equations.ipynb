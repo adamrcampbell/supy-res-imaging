{
 "cells": [
  {
   "cell_type": "markdown",
   "id": "6ef38024-d513-436b-9b95-7996a4ec69c1",
   "metadata": {},
   "source": [
    "---\n",
    "### Simplified System of linear equations solving for image $X$\n",
    "\n",
    "Key terms:\n",
    "\n",
    "$X$ = the ideal image to solve for, assumed to be the \"perfect\" image we desire\n",
    "\n",
    "$Y_i$ = a decimated, downsampled, blurred, noisy image based on $X$, assumed to be one of many, where $1 \\leq i \\leq N$\n",
    "\n",
    "$L$ = one-dimensional size for image $X$\n",
    "\n",
    "$M$ = one-dimensional size for each image in $Y$\n",
    "\n",
    "$N$ = the amount of $Y$ images in use\n",
    "\n",
    "$D$ = the decimation operator of size $M^2 \\times L^2$, assumed identical for all $Y_i$\n",
    "\n",
    "$U$ = the \"undecimation\" operator, taken as transpose of $D$\n",
    "\n",
    "$H$ = the blur operator of size $L^2 \\times L^2$, assumed identical for all $Y_i$\n",
    "\n",
    "$E_i$ = the additive noise matrix of size $M^2 \\times M^2$ for matrix $Y_i$\n",
    "\n",
    "$S$ = the sharpening operator of size $L^2 \\times L^2$ (?), i.e., the laplacian operator\n",
    "\n",
    "$w_i$ = a weighting scalar, related to autocorrelation of image noise per image $Y_i$ (I think?...)\n",
    "\n",
    "$\\beta$ = smoothing factor for solving, relative to sum of $Y_i$ image weights $\\sum\\limits_{i=1}^{N}w_i$\n",
    "\n",
    "---"
   ]
  },
  {
   "cell_type": "markdown",
   "id": "0cd82e9b-aff8-47ce-bd76-26af4de88770",
   "metadata": {},
   "source": [
    "##### Standard library imports"
   ]
  },
  {
   "cell_type": "code",
   "execution_count": 1,
   "id": "58702d96-425b-4e12-8018-899e631892b5",
   "metadata": {},
   "outputs": [],
   "source": [
    "%matplotlib inline\n",
    "\n",
    "import numpy as np\n",
    "from numpy.random import default_rng\n",
    "\n",
    "import matplotlib.pyplot as plt"
   ]
  },
  {
   "cell_type": "markdown",
   "id": "3a2b9fbe-515a-4c07-8fb3-86350479c198",
   "metadata": {},
   "source": [
    "##### Helper functions and filters"
   ]
  },
  {
   "cell_type": "code",
   "execution_count": 2,
   "id": "00499e84-5af8-45c6-934f-5403b19607af",
   "metadata": {},
   "outputs": [],
   "source": [
    "def show_image(image):\n",
    "    plt.imshow(image, cmap=plt.get_cmap(\"gray\"))\n",
    "    plt.colorbar()\n",
    "    plt.show()\n",
    "    \n",
    "box_blur = np.full((3, 3), 1/9) # 3x3 box blur\n",
    "laplacian = np.array([[0, -1, 0], [-1, 4, -1], [0, -1, 0]]) # 3x3 laplacian sharpen"
   ]
  },
  {
   "cell_type": "markdown",
   "id": "86b98346-6318-477d-8555-44909edbde9c",
   "metadata": {},
   "source": [
    "##### Attempting to make sense of the formulation..."
   ]
  },
  {
   "cell_type": "code",
   "execution_count": 101,
   "id": "3a616972-ec82-4c15-b1b1-898565a8fc12",
   "metadata": {},
   "outputs": [
    {
     "name": "stdout",
     "output_type": "stream",
     "text": [
      "-4\n",
      "2\n",
      "8\n",
      "14\n",
      "[[1. 1. 0. 0. 0. 0. 0. 0. 0. 0. 0. 0. 1. 1. 0. 0.]\n",
      " [0. 0. 1. 1. 0. 0. 1. 1. 0. 0. 0. 0. 0. 0. 0. 0.]\n",
      " [0. 0. 0. 0. 0. 0. 0. 0. 1. 1. 0. 0. 1. 1. 0. 0.]\n",
      " [0. 0. 1. 1. 0. 0. 0. 0. 0. 0. 0. 0. 0. 0. 1. 1.]]\n"
     ]
    }
   ],
   "source": [
    "L = 4 # X = 4x4 pixels\n",
    "M = 2 # Y_i = 2x2 pixels\n",
    "N = 1 # only 1 Y image\n",
    "β = 0 # no smoothing influence\n",
    "W = np.ones(N) # no scaled weighting\n",
    "\n",
    "X = np.arange(1, L**2+1)\n",
    "Y = np.zeros(M**2)\n",
    "\n",
    "D = np.zeros((M**2, L**2))\n",
    "D[:, 0:M] = 1\n",
    "D[:, M+M:M**2+M] = 1\n",
    "dist = M**2+M\n",
    "for r in np.arange(M**2):\n",
    "    if r & 0x1: # is odd\n",
    "        roll_dist = ((r-1) * dist) + M\n",
    "    else: # is even\n",
    "        roll_dist = ((r-1) * dist) + M \n",
    "        \n",
    "    print(roll_dist)\n",
    "    D[r] = np.roll(D[r], roll_dist)\n",
    "# D[0][0:6] = [1, 1, 0, 0, 1, 1]\n",
    "# D[1][2:8] = [1, 1, 0, 0, 1, 1]\n",
    "# D[2][8:14] = [1, 1, 0, 0, 1, 1]\n",
    "# D[3][10:16] = [1, 1, 0, 0, 1, 1]\n",
    "# D = D * 1/4 # average of 4 neighbours\n",
    "print(D)"
   ]
  },
  {
   "cell_type": "code",
   "execution_count": 100,
   "id": "7402979c-b587-45c1-b760-5cb58fbfd11d",
   "metadata": {},
   "outputs": [
    {
     "name": "stdout",
     "output_type": "stream",
     "text": [
      "0\n"
     ]
    }
   ],
   "source": [
    "r = 0\n",
    "print(r & 0x1)"
   ]
  },
  {
   "cell_type": "code",
   "execution_count": null,
   "id": "a6662552-c33e-44f8-a606-dc59cfb1e100",
   "metadata": {},
   "outputs": [],
   "source": []
  }
 ],
 "metadata": {
  "kernelspec": {
   "display_name": "Python 3 (ipykernel)",
   "language": "python",
   "name": "python3"
  },
  "language_info": {
   "codemirror_mode": {
    "name": "ipython",
    "version": 3
   },
   "file_extension": ".py",
   "mimetype": "text/x-python",
   "name": "python",
   "nbconvert_exporter": "python",
   "pygments_lexer": "ipython3",
   "version": "3.10.2"
  }
 },
 "nbformat": 4,
 "nbformat_minor": 5
}
