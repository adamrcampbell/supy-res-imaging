{
 "cells": [
  {
   "cell_type": "markdown",
   "id": "6ef38024-d513-436b-9b95-7996a4ec69c1",
   "metadata": {},
   "source": [
    "---\n",
    "### Simplified System of linear equations solving for image $X$\n",
    "\n",
    "Key terms:\n",
    "\n",
    "$L$ = one-dimensional size for high-resolution image\n",
    "\n",
    "$M$ = one-dimensional size for low-resolution image\n",
    "\n",
    "$X$ = $L^2 \\times 1$ column vector, represents the ideal image we are trying to recover via solving\n",
    "\n",
    "$Y_i$ = $M^2 \\times 1$ column vector, represents a decimated, downsampled, blurred, noisy image based on $X$\n",
    "\n",
    "$N$ = the number of low-resolution images\n",
    "\n",
    "$D$ = the decimation matrix operator of size $M^2 \\times L^2$\n",
    "\n",
    "$H$ = the blur matrix operator of size $L^2 \\times L^2$\n",
    "\n",
    "$S$ = the sharpening operator of size $L^2 \\times L^2$, i.e., the laplacian operator\n",
    "\n",
    "$w_i$ = a weighting scalar, a \"confidence factor\" for each $Y_i$ (eventually a diagonal matrix?)\n",
    "\n",
    "$\\beta$ = smoothing factor for controlling image sharpening\n",
    "\n",
    "---\n",
    "\n",
    "Objective: to solve for $X$ (i.e., $AX = B$) based on the following equation:\n",
    "\n",
    "$\\begin{bmatrix}\n",
    "  \\beta S^T S + (\\sum\\limits_{i=1}^N w_i) H^TD^TDH\n",
    "\\end{bmatrix}X = \\sum\\limits_{i=1}^N (w_iH^TD^TY_i)$\n",
    "\n",
    "---\n",
    "\n",
    "General information:\n",
    "\n",
    "- Dataset: GLEAM Small\n",
    "- Timesteps: 30\n",
    "- Receivers: 512\n",
    "- Channels: 1\n",
    "- $L$ = 100 pixels\n",
    "- $M$ = 50 pixels\n",
    "- $N$ = 6 images (30 timesteps / 5 timesteps per image)\n",
    "- $w_i$ = 1 for all images\n",
    "- $\\beta$ = 1 (I guess?)\n",
    "\n",
    "Asumptions:\n",
    "1. The blur kernel $H$ is uniform across all instances of $Y$\n",
    "2. The decimatimation kernel $D$ is uniform across all instances of $Y$\n",
    "3. The $w_i$ is uniform across all instances of $Y$, just a confidence of 1.0 (\"full confidence\")\n",
    "\n",
    "---\n",
    "\n",
    "To do:\n",
    "\n",
    "- [x] Generate 6 dataset subsets, containing timesteps each (i.e., 30 time steps / 5 time steps per file)\n",
    "- [x] Generate one point spread function per dataset subset, for analysis of different\n",
    "- [x] Generate one point spread function for the whole dataset\n",
    "- [x] Determine if there is a significant difference between a subset PSF and the full dataset PSF - this will be the blur kernel\n",
    "- [ ] Determine if the PSF can be reduced (i.e., dont use the full PSF) - what effects might this have?\n",
    "- [x] Generate an IDFT of the full dataset, $L^2$ pixels\n",
    "- [x] Genetate an IDFT for each of the subsets, $M^2$ pixels\n",
    "- [x] Come up with a formula for populating the decimation matrix\n",
    "- [ ] Come up with a formula for populating the blur matrix \n",
    "- [ ] Determine if there is a formula for populating the product of the blur and decimation matrix, such that $H^TD^T = (HD)^T$\n",
    "\n",
    "---"
   ]
  },
  {
   "cell_type": "code",
   "execution_count": 1,
   "id": "58702d96-425b-4e12-8018-899e631892b5",
   "metadata": {},
   "outputs": [],
   "source": [
    "%matplotlib inline\n",
    "\n",
    "import numpy as np\n",
    "import matplotlib.pyplot as plt\n",
    "from scipy.signal import convolve2d\n",
    "from skimage import data, io, color\n",
    "from skimage.transform import resize\n",
    "\n",
    "\n",
    "plt.rcParams['figure.figsize'] = [8, 8]\n",
    "\n",
    "def show_image(image, title):\n",
    "    plt.imshow(image, cmap=plt.get_cmap(\"gray\"))\n",
    "    plt.title(title)\n",
    "    plt.colorbar()\n",
    "    plt.show()\n",
    "    \n",
    "def normalise(data):\n",
    "    return (data - np.min(data)) / (np.max(data) - np.min(data))\n",
    "\n",
    "def decimation_matrix(l, m): # uses padding - needs a revamp...\n",
    "    d_matrix = np.zeros((m**2, l**2), dtype=np.float32)\n",
    "\n",
    "    tile = np.repeat((1, 0, 1), (2, l - 2, 2)) # assuming taking 2 neighbours per dimension\n",
    "    t_len = tile.shape[0]\n",
    "    d = l // m\n",
    "    r_offset = m**2 // 2\n",
    "    c_offset = l**2 // 2\n",
    "\n",
    "    for p in np.arange(l//4): # divide by 4 as 4 neighbours total\n",
    "        p_offset = p * l\n",
    "        for q in np.arange(m):\n",
    "            d_matrix[q+ p_offset//2, q*d + p_offset*2 : q*d+t_len + p_offset*2] = tile # top-left quadrant\n",
    "            d_matrix[q+r_offset + p_offset//2, q*d+c_offset + p_offset*2: q*d+t_len+c_offset + p_offset*2] = tile # bottom-right quadrant\n",
    "    return d_matrix\n",
    "\n",
    "# produces convolution matrix of size l**2 by l**2, where each row is populated by the convolution kernel values at the appropriate neighbours\n",
    "# note: assumes kernel is a two-dimensonal numpy array of some size n by n\n",
    "def convolution_matrix(l, kernel):\n",
    "    \n",
    "    conv = np.zeros((l**2, l**2), dtype=np.float32)\n",
    "    full_supp = kernel.shape[0] # assumed square\n",
    "    half_supp = (full_supp - 1) // 2\n",
    "\n",
    "    for conv_row in np.arange(l**2):\n",
    "\n",
    "        row, col = (conv_row // l, conv_row % l)\n",
    "\n",
    "        for k_row in np.arange(-(half_supp), half_supp + 1):\n",
    "            # map \"kernel row\" to rows in conv\n",
    "            mapped_row = row + k_row\n",
    "            # ignore any out of bounds rows\n",
    "            if mapped_row >= 0 and mapped_row < l:\n",
    "                linear_col = col - half_supp\n",
    "                # truncate negative columns\n",
    "                mapped_col_start = max(linear_col, 0)\n",
    "                # truncate columns which exceed the l dimension\n",
    "                mapped_col_end = min(linear_col + full_supp, l)\n",
    "                # left trimming for kernels when overlapping out of bounds region in conv (col < 0)\n",
    "                left = np.absolute(col - half_supp) if linear_col < 0 else 0\n",
    "                # right trimming for kernels when overlapping out of bounds region in conv (col >= l)\n",
    "                right = linear_col + full_supp - l if linear_col + full_supp >= l else 0 \n",
    "                # copy over kernel row for current k_row, possibly including trimming for out of bounds coordinates\n",
    "                conv[conv_row][mapped_row * l + mapped_col_start : mapped_row * l + mapped_col_end] = kernel[k_row + half_supp][left: left + full_supp - right]\n",
    "    return conv"
   ]
  },
  {
   "cell_type": "markdown",
   "id": "86b98346-6318-477d-8555-44909edbde9c",
   "metadata": {},
   "source": [
    "#### Configuration and data set up..."
   ]
  },
  {
   "cell_type": "code",
   "execution_count": 15,
   "id": "3a616972-ec82-4c15-b1b1-898565a8fc12",
   "metadata": {},
   "outputs": [],
   "source": [
    "timesteps = 30 # total timesteps\n",
    "timesteps_per_y = 5\n",
    "l = 100\n",
    "m = 50\n",
    "n = timesteps // timesteps_per_y\n",
    "β = 1.0 # no smoothing influence\n",
    "w = 1.0 # full confidence\n",
    "\n",
    "# all time steps direct image\n",
    "filename = \"../data/direct_image_ts_0_29.bin\"\n",
    "x_true = np.fromfile(filename, dtype=np.float32)\n",
    "x_true = x_true.reshape(l, l)\n",
    "# show_image(x_true, \"True X\")\n",
    "\n",
    "# all time steps direct psf\n",
    "filename = \"../data/direct_psf_ts_0_29.bin\"\n",
    "x_psf = np.fromfile(filename, dtype=np.float32)\n",
    "x_psf = x_psf.reshape(l, l)\n",
    "# show_image(x_psf, \"True X PSF\")\n",
    "\n",
    "# Storing all low-res images as layered stack\n",
    "y = np.zeros((n, m, m))\n",
    "\n",
    "# batched time steps direct images\n",
    "for i in np.arange(n):\n",
    "    filename = f\"../data/direct_image_ts_{i * timesteps_per_y}_{i * timesteps_per_y + timesteps_per_y - 1}.bin\"\n",
    "    y[i] = np.fromfile(filename, dtype=np.float32).reshape(m, m)\n",
    "    # show_image(y[i], f\"$Y_{i}$\")\n",
    "    \n",
    "# batched time steps point spread functions\n",
    "# for i in np.arange(N):\n",
    "#     start = i * timesteps_per_y\n",
    "#     end = start + timesteps_per_y - 1\n",
    "#     filename = \"../data/direct_psf_ts_%d_%d.bin\" % (start, end)\n",
    "#     Y_i_psf = np.fromfile(filename, dtype=np.float32)\n",
    "#     Y_i_psf = Y_i_psf.reshape(L, L)\n",
    "#     # show_image(Y_i_psf, \"$Y_{%d}$ PSF\" % i)\n",
    "\n",
    "# Decimation matrix\n",
    "d = np.ones((m**2, l**2))\n",
    "\n",
    "# Blur matrix (psf)\n",
    "h = np.ones((l**2, l**2))\n",
    "\n",
    "# Sharpening matrix (laplacian)\n",
    "# laplacian = np.array([[0, -1,  0], [-1,  4, -1], [0, -1,  0]], dtype=np.float32)\n",
    "# s = convolution_matrix(l, laplacian)"
   ]
  },
  {
   "cell_type": "markdown",
   "id": "17f5877a-f42d-4bbe-9815-09fba1baae3f",
   "metadata": {},
   "source": [
    "#### Setting up the right hand side of the equation $AX = B$, where $B = \\sum\\limits_{i=1}^N (w_iH^TD^TY_i)$"
   ]
  },
  {
   "cell_type": "code",
   "execution_count": 22,
   "id": "e3eb9802-b912-440c-a441-2c212ebd9b04",
   "metadata": {},
   "outputs": [
    {
     "data": {
      "image/png": "[encoded data removed]",
      "text/plain": [
       "<Figure size 576x576 with 2 Axes>"
      ]
     },
     "metadata": {
      "needs_background": "light"
     },
     "output_type": "display_data"
    }
   ],
   "source": [
    "b = np.zeros(l**2, dtype=np.float32)\n",
    "\n",
    "for i in np.arange(n):\n",
    "    b += np.matmul(h.T, np.matmul(d.T, y[i].flatten()))\n",
    "                     \n",
    "show_image(b.reshape(l, l), \"B\")"
   ]
  },
  {
   "cell_type": "markdown",
   "id": "42023895-557c-4c97-a10e-bf1a2b43d09a",
   "metadata": {},
   "source": [
    "#### Setting up the right hand side of the equation $AX=B$, where $A = \\begin{bmatrix}\n",
    "  \\beta S^T S + (\\sum\\limits_{i=1}^N w_i) H^TD^TDH\n",
    "\\end{bmatrix}$"
   ]
  },
  {
   "cell_type": "code",
   "execution_count": null,
   "id": "35827ee1-0746-4887-8e72-441e3db0723a",
   "metadata": {},
   "outputs": [],
   "source": [
    "# To do..."
   ]
  },
  {
   "cell_type": "markdown",
   "id": "02085400-32b6-44f0-8386-8ee5e61b6dd4",
   "metadata": {},
   "source": [
    "#### Now solve for $X$..."
   ]
  },
  {
   "cell_type": "code",
   "execution_count": null,
   "id": "f6764572-2498-4772-8051-feb390d94eb3",
   "metadata": {},
   "outputs": [],
   "source": [
    "# Look here for options regarding solving the sparse matrix problem - seems to be plenty of algorithms to choose from\n",
    "# https://docs.scipy.org/doc/scipy/reference/sparse.linalg.html"
   ]
  }
 ],
 "metadata": {
  "kernelspec": {
   "display_name": "Python 3 (ipykernel)",
   "language": "python",
   "name": "python3"
  },
  "language_info": {
   "codemirror_mode": {
    "name": "ipython",
    "version": 3
   },
   "file_extension": ".py",
   "mimetype": "text/x-python",
   "name": "python",
   "nbconvert_exporter": "python",
   "pygments_lexer": "ipython3",
   "version": "3.10.4"
  }
 },
 "nbformat": 4,
 "nbformat_minor": 5
}
