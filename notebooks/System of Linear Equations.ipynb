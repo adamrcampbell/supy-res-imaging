{
 "cells": [
  {
   "cell_type": "markdown",
   "id": "6ef38024-d513-436b-9b95-7996a4ec69c1",
   "metadata": {},
   "source": [
    "---\n",
    "### Simplified System of linear equations solving for image $X$\n",
    "\n",
    "Key terms:\n",
    "\n",
    "$L$ = one-dimensional size for high-resolution image\n",
    "\n",
    "$M$ = one-dimensional size for low-resolution image\n",
    "\n",
    "$X$ = $L^2 \\times 1$ column vector, represents the ideal image we are trying to recover via solving\n",
    "\n",
    "$Y_i$ = $M^2 \\times 1$ column vector, represents a decimated, downsampled, blurred, noisy image based on $X$\n",
    "\n",
    "$N$ = the number of low-resolution images\n",
    "\n",
    "$D$ = the decimation matrix operator of size $M^2 \\times L^2$\n",
    "\n",
    "$H$ = the blur matrix operator of size $L^2 \\times L^2$\n",
    "\n",
    "$S$ = the sharpening operator of size $L^2 \\times L^2$, i.e., the laplacian operator\n",
    "\n",
    "$w_i$ = a weighting scalar, a \"confidence factor\" for each $Y_i$ (eventually a diagonal matrix?)\n",
    "\n",
    "$\\beta$ = smoothing factor for controlling image sharpening\n",
    "\n",
    "---\n",
    "\n",
    "Objective: to solve for $X$ (i.e., $AX = B$) based on the following equation:\n",
    "\n",
    "$\\begin{bmatrix}\n",
    "  \\beta S^T S + (\\sum\\limits_{i=1}^N w_i) H^TD^TDH\n",
    "\\end{bmatrix}X = \\sum\\limits_{i=1}^N (w_iH^TD^TY_i)$\n",
    "\n",
    "---\n",
    "\n",
    "General information:\n",
    "\n",
    "- Dataset: GLEAM Small\n",
    "- Timesteps: 30\n",
    "- Receivers: 512\n",
    "- Channels: 1\n",
    "- $L$ = 100 pixels\n",
    "- $M$ = 50 pixels\n",
    "- $N$ = 6 images (30 timesteps / 5 timesteps per image)\n",
    "- $w_i$ = 1 for all images\n",
    "- $\\beta$ = 1 (I guess?)\n",
    "\n",
    "Asumptions:\n",
    "1. The blur kernel $H$ is uniform across all instances of $Y$\n",
    "2. The decimatimation kernel $D$ is uniform across all instances of $Y$\n",
    "3. The $w_i$ is uniform across all instances of $Y$, just a confidence of 1.0 (\"full confidence\")\n",
    "\n",
    "---\n",
    "\n",
    "To do:\n",
    "\n",
    "- [x] Generate 6 dataset subsets, containing timesteps each (i.e., 30 time steps / 5 time steps per file)\n",
    "- [x] Generate one point spread function per dataset subset, for analysis of different\n",
    "- [x] Generate one point spread function for the whole dataset\n",
    "- [x] Determine if there is a significant difference between a subset PSF and the full dataset PSF - this will be the blur kernel\n",
    "- [ ] Determine if the PSF can be reduced (i.e., dont use the full PSF) - what effects might this have?\n",
    "- [x] Generate an IDFT of the full dataset, $L^2$ pixels\n",
    "- [x] Genetate an IDFT for each of the subsets, $M^2$ pixels\n",
    "- [x] Come up with a formula for populating the decimation matrix\n",
    "- [ ] Come up with a formula for populating the blur matrix \n",
    "- [ ] Determine if there is a formula for populating the product of the blur and decimation matrix, such that $H^TD^T = (HD)^T$\n",
    "\n",
    "---"
   ]
  },
  {
   "cell_type": "code",
   "execution_count": 3,
   "id": "58702d96-425b-4e12-8018-899e631892b5",
   "metadata": {},
   "outputs": [],
   "source": [
    "%matplotlib inline\n",
    "\n",
    "import numpy as np\n",
    "import matplotlib.pyplot as plt\n",
    "\n",
    "plt.rcParams['figure.figsize'] = [8, 8]\n",
    "\n",
    "def show_image(image, title):\n",
    "    plt.imshow(image, cmap=plt.get_cmap(\"gray\"))\n",
    "    plt.title(title)\n",
    "    plt.colorbar()\n",
    "    plt.show()\n",
    "    \n",
    "def normalise(data):\n",
    "    return (data - np.min(data)) / (np.max(data) - np.min(data))\n",
    "\n",
    "def decimation_matrix(l, m):\n",
    "    d_matrix = np.zeros((m**2, l**2))\n",
    "\n",
    "    tile = np.repeat((1, 0, 1), (2, l - 2, 2)) # assuming taking 2 neighbours per dimension\n",
    "    t_len = tile.shape[0]\n",
    "    d = l // m\n",
    "    r_offset = m**2 // 2\n",
    "    c_offset = l**2 // 2\n",
    "\n",
    "    for p in np.arange(l//4): # divide by 4 as 4 neighbours total\n",
    "        p_offset = p * l\n",
    "        for q in np.arange(m):\n",
    "            d_matrix[q+ p_offset//2, q*d + p_offset*2 : q*d+t_len + p_offset*2] = tile # top-left quadrant\n",
    "            d_matrix[q+r_offset + p_offset//2, q*d+c_offset + p_offset*2: q*d+t_len+c_offset + p_offset*2] = tile # bottom-right quadrant\n",
    "    return d_matrix"
   ]
  },
  {
   "cell_type": "markdown",
   "id": "86b98346-6318-477d-8555-44909edbde9c",
   "metadata": {},
   "source": [
    "Configuration and data set up..."
   ]
  },
  {
   "cell_type": "code",
   "execution_count": 9,
   "id": "3a616972-ec82-4c15-b1b1-898565a8fc12",
   "metadata": {},
   "outputs": [
    {
     "data": {
      "image/png": "[encoded data removed]",
      "text/plain": [
       "<Figure size 576x576 with 2 Axes>"
      ]
     },
     "metadata": {
      "needs_background": "light"
     },
     "output_type": "display_data"
    },
    {
     "data": {
      "image/png": "[encoded data removed]",
      "text/plain": [
       "<Figure size 576x576 with 2 Axes>"
      ]
     },
     "metadata": {
      "needs_background": "light"
     },
     "output_type": "display_data"
    }
   ],
   "source": [
    "timesteps = 30 # total timesteps\n",
    "timesteps_per_y = 5\n",
    "L = 100\n",
    "M = 50\n",
    "N = timesteps // timesteps_per_y\n",
    "β = 1.0 # no smoothing influence\n",
    "w = 1.0 # full confidence\n",
    "\n",
    "# all time steps direct image\n",
    "filename = \"../data/direct_image_ts_0_29.bin\"\n",
    "X_true = np.fromfile(filename, dtype=np.float32)\n",
    "X_true = X_true.reshape(L, L)\n",
    "# show_image(X_true, \"True X\")\n",
    "\n",
    "# all time steps direct psf\n",
    "filename = \"../data/direct_psf_ts_0_29.bin\"\n",
    "X_psf = np.fromfile(filename, dtype=np.float32)\n",
    "X_psf = X_psf.reshape(L, L)\n",
    "# show_image(X_psf, \"X PSF\")\n",
    "\n",
    "# Storing all low-res images as column vectors (num images, num pixels per image)\n",
    "Y = np.zeros((N, M**2))\n",
    "\n",
    "# batched time steps direct images\n",
    "for i in np.arange(N):\n",
    "    start = i * timesteps_per_y\n",
    "    end = start + timesteps_per_y - 1\n",
    "    filename = \"../data/direct_image_ts_%d_%d.bin\" % (start, end)\n",
    "    Y[i] = np.fromfile(filename, dtype=np.float32)\n",
    "    # show_image(Y[i].reshape(M, M), \"$Y_{%d}$\" % i)\n",
    "\n",
    "Y = Y.T # flip so Y is a column vector matrix where Y_i is the ith image of L^2 x 1 pixels\n",
    "    \n",
    "# batched time steps point spread functions\n",
    "# for i in np.arange(N):\n",
    "#     start = i * timesteps_per_y\n",
    "#     end = start + timesteps_per_y - 1\n",
    "#     filename = \"../data/direct_psf_ts_%d_%d.bin\" % (start, end)\n",
    "#     Y_i_psf = np.fromfile(filename, dtype=np.float32)\n",
    "#     Y_i_psf = Y_i_psf.reshape(L, L)\n",
    "#     # show_image(Y_i_psf, \"$Y_{%d}$ PSF\" % i)\n",
    "\n",
    "# Decimation matrix\n",
    "D = decimation_matrix(L, M)\n",
    "\n",
    "# Blur matrix (psf)\n",
    "H = np.zeros((L**2, L**2))\n",
    "\n",
    "# Sharpening matrix (laplacian)\n",
    "S = np.zeros((L**2, L**2))"
   ]
  },
  {
   "cell_type": "markdown",
   "id": "99d9d1b7-e635-4564-8000-f63543ae29ab",
   "metadata": {},
   "source": [
    "Setting up the right hand side of the equation $AX = B$, where $B = \\sum\\limits_{i=1}^N (w_iH^TD^TY_i)$"
   ]
  },
  {
   "cell_type": "markdown",
   "id": "42023895-557c-4c97-a10e-bf1a2b43d09a",
   "metadata": {},
   "source": [
    "Setting up the right hannd side of the equation $AX=B$, where $A = \\begin{bmatrix}\n",
    "  \\beta S^T S + (\\sum\\limits_{i=1}^N w_i) H^TD^TDH\n",
    "\\end{bmatrix}$"
   ]
  },
  {
   "cell_type": "markdown",
   "id": "02085400-32b6-44f0-8386-8ee5e61b6dd4",
   "metadata": {},
   "source": [
    "Now solve for $X$..."
   ]
  },
  {
   "cell_type": "code",
   "execution_count": null,
   "id": "f6764572-2498-4772-8051-feb390d94eb3",
   "metadata": {},
   "outputs": [],
   "source": []
  }
 ],
 "metadata": {
  "kernelspec": {
   "display_name": "Python 3 (ipykernel)",
   "language": "python",
   "name": "python3"
  },
  "language_info": {
   "codemirror_mode": {
    "name": "ipython",
    "version": 3
   },
   "file_extension": ".py",
   "mimetype": "text/x-python",
   "name": "python",
   "nbconvert_exporter": "python",
   "pygments_lexer": "ipython3",
   "version": "3.10.2"
  }
 },
 "nbformat": 4,
 "nbformat_minor": 5
}
