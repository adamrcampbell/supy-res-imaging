{
 "cells": [
  {
   "cell_type": "code",
   "execution_count": 1,
   "id": "1f7be83e-26ee-4d11-8e33-08dcbb5e9926",
   "metadata": {},
   "outputs": [],
   "source": [
    "%matplotlib widget\n",
    "\n",
    "from typing import List, Tuple\n",
    "import numpy as np\n",
    "from numba import njit, prange\n",
    "import matplotlib.pyplot as plt\n",
    "\n",
    "plt.rcParams['figure.figsize'] = [8, 8]"
   ]
  },
  {
   "cell_type": "code",
   "execution_count": 2,
   "id": "2711648b-1436-4e66-8b24-2b497b3c9217",
   "metadata": {},
   "outputs": [],
   "source": [
    "\n",
    "def show_images(images: List[Tuple]) -> None:\n",
    "    n: int = len(images)\n",
    "    f = plt.figure()\n",
    "    # f.set_size_inches(18.5, 10.5)\n",
    "    for i in range(n):\n",
    "        # Debug, plot figure\n",
    "        f.add_subplot(1, n, i + 1)\n",
    "        plt.imshow(images[i][0], cmap=\"hot\")\n",
    "        plt.title(images[i][1])\n",
    "        plt.colorbar(orientation=\"horizontal\")\n",
    "\n",
    "    plt.show()\n",
    "   \n",
    "@njit(parallel = False )\n",
    "def direct_imaging_w_correction(image, visibilities, uvw_coords, num_uvw_coords, num_channels, image_dim, cell_size_radians, channel_hz_start, bandwidth_increment):\n",
    "    \n",
    "    num_visibilities = num_uvw_coords * num_channels\n",
    "    \n",
    "    for r in range(image_dim):\n",
    "        for c in range(image_dim):\n",
    "           \n",
    "            pixel_index = r * image_dim + c\n",
    "            \n",
    "            x = ((pixel_index % image_dim) - image_dim / 2) * cell_size_radians\n",
    "            y = ((pixel_index // image_dim) - image_dim / 2) * cell_size_radians\n",
    "            img_correction = np.sqrt(1.0 - x*x - y*y)\n",
    "            w_correction = img_correction - 1.0\n",
    "            pixel_sum = 0.0\n",
    "            \n",
    "            for v in range(num_visibilities):\n",
    "                \n",
    "                current_baseline = v // num_channels\n",
    "                current_channel = v % num_channels\n",
    "                m2w = (channel_hz_start + (bandwidth_increment * current_channel)) / 299792458.0\n",
    "                uvw = uvw_coords[current_baseline] * m2w\n",
    "                vis = visibilities[v]\n",
    "                \n",
    "                theta = 2.0 * np.pi * (x * uvw[0] + y * uvw[1] + w_correction * uvw[2])\n",
    "                theta_vis_product = vis * (np.cos(theta) + np.sin(theta) * 1.0j)\n",
    "                pixel_sum += theta_vis_product.real\n",
    "            \n",
    "            image[r][c] += pixel_sum * img_correction"
   ]
  },
  {
   "cell_type": "code",
   "execution_count": 13,
   "id": "613d0e3c-4b54-49de-8d86-f418a341a056",
   "metadata": {},
   "outputs": [
    {
     "name": "stdout",
     "output_type": "stream",
     "text": [
      "130816\n"
     ]
    }
   ],
   "source": [
    "# Algorithm parameters\n",
    "num_receivers = 512\n",
    "image_dim = 256\n",
    "fov_degrees = 1.0\n",
    "channel_start_hz = 140000000.0\n",
    "channel_bandwidth = 0.0\n",
    "num_channels = 1\n",
    "right_ascension = True\n",
    "num_timesteps = 1\n",
    "\n",
    "# vis_intensity_file = \"datasets/gleam_small/gleam_small.vis\"\n",
    "# vis_uvw_file = \"datasets/gleam_small/gleam_small.uvw\"\n",
    "# image_output_file = \"datasets/gleam_small/idft_timestep\"\n",
    "\n",
    "vis_intensity_files = [\"../datasets/gleam_small/gleam_small_ts_{:d}.vis\".format(ts) for ts in range(num_timesteps)]\n",
    "vis_uvw_files = [\"../datasets/gleam_small/gleam_small_ts_{:d}.uvw\".format(ts) for ts in range(num_timesteps)]\n",
    "image_output_files = [\"../datasets/gleam_small/idft_ts_{:d}.img\".format(ts) for ts in range(num_timesteps)]\n",
    "\n",
    "render_dim = image_dim\n",
    "x_render_offset = 0\n",
    "y_render_offset = 0\n",
    "num_baselines = (num_receivers * (num_receivers - 1)) // 2\n",
    "print(num_baselines)\n",
    "num_uvw_coords = num_baselines\n",
    "num_visibilities = num_uvw_coords * num_channels\n",
    "cell_size_radians = np.float32(np.arcsin(2.0 * np.sin(0.5 * fov_degrees * np.pi / 180.0) / image_dim))"
   ]
  },
  {
   "cell_type": "code",
   "execution_count": 14,
   "id": "18988918-1fea-481f-9011-20ee9fe08ce2",
   "metadata": {},
   "outputs": [],
   "source": [
    "# flip_u_w_coords = -1.0 if right_ascension else 1.0\n",
    "\n",
    "# uvw_header = np.fromfile(vis_uvw_file, dtype=np.uintc, count=1)\n",
    "# uvw_coords = np.fromfile(vis_uvw_file, dtype=np.float32, count=3*num_baselines, offset=4)\n",
    "# uvw_coords = uvw_coords.reshape(num_baselines, 3)\n",
    "# uvw_coords[:, 0] *= flip_u_w_coords\n",
    "# uvw_coords[:, 2] *= flip_u_w_coords\n",
    "\n",
    "# vis_header = np.fromfile(vis_intensity_file, dtype=np.uintc, count=1)\n",
    "# visibilities = np.fromfile(vis_intensity_file, dtype=np.csingle, count=num_baselines, offset=4)"
   ]
  },
  {
   "cell_type": "code",
   "execution_count": 15,
   "id": "0dd53d3b-0fd4-465d-8690-162fabb15346",
   "metadata": {},
   "outputs": [],
   "source": [
    "# bandwidth_increment = 0.0 #channel_bandwidth / (num_channels - 1)\n",
    "# image = direct_imaging_w_correction(visibilities, uvw_coords, num_uvw_coords, num_channels, image_dim,\n",
    "#                                     cell_size_radians, channel_start_hz, bandwidth_increment)"
   ]
  },
  {
   "cell_type": "code",
   "execution_count": 16,
   "id": "03a70514-f7ce-44b1-864a-e65463f6246c",
   "metadata": {},
   "outputs": [],
   "source": [
    "# plt.imshow(image)\n",
    "# plt.colorbar()\n",
    "# plt.show()\n",
    "\n",
    "# image.tofile(image_output_files[0])"
   ]
  },
  {
   "cell_type": "markdown",
   "id": "7571fa30-37a1-4341-82db-c92415061578",
   "metadata": {},
   "source": [
    "### Generate _t_ timestep images"
   ]
  },
  {
   "cell_type": "code",
   "execution_count": 17,
   "id": "ee7e8d8b-0c0a-4814-9352-f28cc93eb9e2",
   "metadata": {},
   "outputs": [
    {
     "name": "stdout",
     "output_type": "stream",
     "text": [
      "Beginning timestep 0...\n",
      "Getting uvw and vis data...\n",
      "Synthesizing image for timestep 0...\n",
      "<class 'numpy.complex64'>\n",
      "<class 'numpy.float32'>\n",
      "<class 'int'>\n",
      "<class 'int'>\n",
      "<class 'int'>\n",
      "<class 'numpy.float32'>\n",
      "<class 'float'>\n"
     ]
    }
   ],
   "source": [
    "images = []\n",
    "\n",
    "# all_uvw_coords = np.empty((0, 3), dtype=np.float32)\n",
    "# all_visibilities = np.empty(0, dtype=np.csingle)\n",
    "\n",
    "# print(all_uvw_coords.shape)\n",
    "# print(all_visibilities.shape)\n",
    "\n",
    "for ts in range(num_timesteps):\n",
    "    \n",
    "    print(f\"Beginning timestep {ts}...\")\n",
    "    # Populate data from timestep applicable files\n",
    "    flip_u_w_coords = -1.0 if right_ascension else 1.0\n",
    "    print(\"Getting uvw and vis data...\")\n",
    "    uvw_header = np.fromfile(vis_uvw_files[ts], dtype=np.uintc, count=1)\n",
    "    uvw_coords = np.fromfile(vis_uvw_files[ts], dtype=np.float32, count=3*num_baselines, offset=4)\n",
    "    uvw_coords = uvw_coords.reshape(num_baselines, 3)\n",
    "    uvw_coords[:, 0] *= flip_u_w_coords\n",
    "    uvw_coords[:, 2] *= flip_u_w_coords\n",
    "\n",
    "    vis_header = np.fromfile(vis_intensity_files[ts], dtype=np.uintc, count=1)\n",
    "    visibilities = np.fromfile(vis_intensity_files[ts], dtype=np.csingle, count=num_baselines, offset=4)\n",
    "    \n",
    "#     all_uvw_coords = np.append(all_uvw_coords, uvw_coords, axis=0)\n",
    "#     all_visibilities = np.append(all_visibilities, visibilities)\n",
    "    \n",
    "#     print(all_uvw_coords.shape)\n",
    "#     print(all_visibilities.shape)\n",
    "    \n",
    "    print(f\"Synthesizing image for timestep {ts}...\")\n",
    "    # Produce image\n",
    "    image = np.zeros((image_dim, image_dim), dtype=np.float32)   \n",
    "    # direct_imaging_w_correction(image, visibilities, uvw_coords, num_uvw_coords, num_channels, image_dim, cell_size_radians, channel_start_hz, 0.0)\n",
    "    \n",
    "    # print(\"Saving image to file...\")\n",
    "    # image.tofile(image_output_files[ts])\n",
    "    # images.append((np.copy(image), f\"timestep {ts}\"))\n",
    "    \n",
    "# print(\"Generating image...\")\n",
    "# image = np.zeros((image_dim, image_dim))\n",
    "# direct_imaging_w_correction(image, all_visibilities, all_uvw_coords, num_uvw_coords*num_timesteps, num_channels, image_dim, cell_size_radians, channel_start_hz, 0.0)\n",
    "\n",
    "# image.tofile(\"../datasets/gleam_small/idft_test.img\")\n",
    "# images.append((image, \"IDFT All Timesteps\"))\n",
    "    \n",
    "# show_images(images)"
   ]
  },
  {
   "cell_type": "code",
   "execution_count": null,
   "id": "de265b99-6d67-4055-b786-521b04fa5196",
   "metadata": {},
   "outputs": [],
   "source": []
  },
  {
   "cell_type": "code",
   "execution_count": null,
   "id": "1bfcafd5-326f-4809-82f8-0757f386d42c",
   "metadata": {},
   "outputs": [],
   "source": []
  }
 ],
 "metadata": {
  "kernelspec": {
   "display_name": "Python 3 (ipykernel)",
   "language": "python",
   "name": "python3"
  },
  "language_info": {
   "codemirror_mode": {
    "name": "ipython",
    "version": 3
   },
   "file_extension": ".py",
   "mimetype": "text/x-python",
   "name": "python",
   "nbconvert_exporter": "python",
   "pygments_lexer": "ipython3",
   "version": "3.10.4"
  }
 },
 "nbformat": 4,
 "nbformat_minor": 5
}
