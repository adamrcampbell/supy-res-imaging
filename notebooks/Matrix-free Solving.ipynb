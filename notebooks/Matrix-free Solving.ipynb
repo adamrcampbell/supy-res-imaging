{
 "cells": [
  {
   "cell_type": "code",
   "execution_count": 56,
   "id": "9058c8e1-c8b8-4b65-af92-950152e43617",
   "metadata": {},
   "outputs": [],
   "source": [
    "%matplotlib inline\n",
    "\n",
    "import numpy as np\n",
    "import matplotlib.pyplot as plt\n",
    "from scipy.sparse import csr_matrix, dia_matrix, diags\n",
    "from scipy.sparse.linalg import spsolve\n",
    "from scipy.sparse.linalg import LinearOperator\n",
    "\n",
    "plt.rcParams['figure.figsize'] = [10, 10]\n",
    "\n",
    "# Useful links:\n",
    "# https://caam37830.github.io/book/02_linear_algebra/linearoperators.html#linear-operators"
   ]
  },
  {
   "cell_type": "code",
   "execution_count": 57,
   "id": "f91438e6-5976-4f93-a51f-4ab35527accf",
   "metadata": {},
   "outputs": [
    {
     "name": "stdout",
     "output_type": "stream",
     "text": [
      "True\n"
     ]
    }
   ],
   "source": [
    "# The usual approach... Ax=b\n",
    "\n",
    "# Using numpy\n",
    "a = np.array([[6, 2, -3], [2, -5, 1], [-1, -2, -7]])\n",
    "b = np.array([1, 4, 5])\n",
    "x = np.linalg.solve(a, b)\n",
    "np.allclose(np.dot(a, x), b) # does solution match?\n",
    "\n",
    "# Using scipy sparse csr matrix\n",
    "x_csr = spsolve(csr_matrix(a), b)\n",
    "print(np.allclose(np.dot(a, x_csr), b))\n",
    "\n",
    "# Numpy vs Scipy sparse do not give same solution, maybe its just an example where there are multiple solutions?"
   ]
  },
  {
   "cell_type": "markdown",
   "id": "cb5e3863-b90a-471a-8cbe-7474544d67d7",
   "metadata": {},
   "source": [
    "$A = \\begin{bmatrix}\n",
    "  \\beta S^T S + (\\sum\\limits_{i=1}^N w_i) H^TD^TDH\n",
    "\\end{bmatrix}$"
   ]
  },
  {
   "cell_type": "code",
   "execution_count": 73,
   "id": "d65744b4-5d26-4886-bac8-9c9a4ff7b953",
   "metadata": {},
   "outputs": [
    {
     "name": "stdout",
     "output_type": "stream",
     "text": [
      "[0.6265834  0.22035433 0.58633036 0.23437212 0.55593364 0.0165659\n",
      " 0.52710801 0.22985519 0.0103052  0.80382503]\n"
     ]
    },
    {
     "data": {
      "text/plain": [
       "array([3.81123318, 3.81123318, 3.81123318, 3.81123318, 3.81123318,\n",
       "       3.81123318, 3.81123318, 3.81123318, 3.81123318, 3.81123318])"
      ]
     },
     "execution_count": 73,
     "metadata": {},
     "output_type": "execute_result"
    }
   ],
   "source": [
    "# Exploring a custom Linear Operator for calculating A instead of storing it\n",
    "# note: uses this tutorial... https://caam37830.github.io/book/02_linear_algebra/linearoperators.html#linear-operators-from-functions\n",
    "Afun = lambda X : np.sum(X, axis=0).reshape(1,-1).repeat(X.shape[0], axis=0)\n",
    "m = 10 # linear operator of size 10\n",
    "A = LinearOperator(\n",
    "    shape   = (m,m),\n",
    "    matvec  = Afun,\n",
    "    rmatvec = Afun,\n",
    "    matmat  = Afun,\n",
    "    rmatmat = Afun,\n",
    "    dtype=np.float32  \n",
    ")\n",
    "x = np.random.rand(m)\n",
    "print(x)\n",
    "A @ x"
   ]
  },
  {
   "cell_type": "code",
   "execution_count": null,
   "id": "1ab1b271-e1fc-4754-afc2-8b80591f5c71",
   "metadata": {},
   "outputs": [],
   "source": []
  },
  {
   "cell_type": "code",
   "execution_count": null,
   "id": "c81a2f96-f296-46e4-b4a0-b94b9f7f85a9",
   "metadata": {},
   "outputs": [],
   "source": []
  }
 ],
 "metadata": {
  "kernelspec": {
   "display_name": "Python 3 (ipykernel)",
   "language": "python",
   "name": "python3"
  },
  "language_info": {
   "codemirror_mode": {
    "name": "ipython",
    "version": 3
   },
   "file_extension": ".py",
   "mimetype": "text/x-python",
   "name": "python",
   "nbconvert_exporter": "python",
   "pygments_lexer": "ipython3",
   "version": "3.10.5"
  }
 },
 "nbformat": 4,
 "nbformat_minor": 5
}
