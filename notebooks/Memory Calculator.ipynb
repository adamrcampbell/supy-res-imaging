{
 "cells": [
  {
   "cell_type": "markdown",
   "id": "47d4d1e6-5ec5-48e6-85bd-f8959ebfb4cf",
   "metadata": {
    "tags": []
   },
   "source": [
    "Objective: to solve for $X$ (i.e., $AX = B$) based on the following equation:\n",
    "\n",
    "$\\begin{bmatrix}\n",
    "  \\beta S^T S + (\\sum\\limits_{i=1}^N w_i) H^TD^TDH\n",
    "\\end{bmatrix}X = \\sum\\limits_{i=1}^N (w_iH^TD^TY_i)$\n",
    "\n",
    "Notes to self:\n",
    "1. Judging by what I see, it is clear I can't keep a hold of everything in RAM all at once if I want to have decent resolution (say 300px^2 or more). So, maybe it makes sense to break the problem down so at runtime I produce the a/b matrices, save them to file, free up the setup matrices used (i.e., y, d, h, s), then reload a/b from file to conduct solving. I dont think I need to keep anything around once I hit the solving step (i.e. AX=B, or in my case x = solver(a, b).\n",
    "2. A further improvement would be if I could perform solving in a distributed manner - that is, instead of requiring everything in memory all at once for full-bloqn solving, I could just produce fragments of each setup matrix, fragments of a/b, and build up towards x over time.\n",
    "    - Update: there appears to be several libs for performing such an operation, pytrilinos, MAGMA\n",
    "    - Update: I wonder if it just makes more sense to rely on sparse to dense compression methods, like the CSR (compressed sparse row) format and use dense solving?\n",
    "3. Another improvement would be to reduce/remove matrices where possible. For instance, in the above equation, I could just store $HD$, and use the transpose when neccesary, thus removing one significantly large matrix. (subnote: is this actually possible? is $H^TD^T = (HD)^T$?\n",
    "4. One issue is that I haven't accounted for auxiliary memory requirements during intermin processes..."
   ]
  },
  {
   "cell_type": "code",
   "execution_count": 2,
   "id": "ec544f1a-79db-4f74-870d-93c25baa233a",
   "metadata": {
    "tags": []
   },
   "outputs": [
    {
     "name": "stdout",
     "output_type": "stream",
     "text": [
      "Setup matrices (bytes): {'y': 4800000, 'd': 102400000000, 'h': 1638400000000, 's': 1638400000000}\n",
      "Memory footprint for setup matrices (bytes/megabytes/gigabytes): (3379204800000, 3379204.8, 3379.2048)\n",
      "\n",
      "Solver matrices (bytes): {'x': 2560000, 'a': 2560000, 'b': 1638400000000}\n",
      "Memory footprint for solver matrices (bytes/megabytes/gigabytes): (1638405120000, 1638405.12, 1638.40512)\n",
      "\n",
      "Is super-resolution possible with your configuration: True\n",
      "l^2:                      640000\n",
      "(psf_support - 2) * m^2:  1960000\n",
      "n * m^2:                  1200000\n"
     ]
    }
   ],
   "source": [
    "import numpy as np\n",
    "\n",
    "precision = np.dtype(np.float32).itemsize\n",
    "l = 800\n",
    "m = 200\n",
    "n = 30\n",
    "psf_support = 51\n",
    "\n",
    "setup_matrices = {\n",
    "    'y': m**2 * n * precision,\n",
    "    'd': m**2 * l**2 * precision,\n",
    "    'h': l**2 * l**2 * precision,\n",
    "    's': l**2 * l**2 * precision\n",
    "}\n",
    "\n",
    "solver_matrices = {\n",
    "    'x': l**2 * precision,\n",
    "    'a': l**2 * precision,\n",
    "    'b': l**2 * l**2 * precision\n",
    "}\n",
    "\n",
    "print(f\"Setup matrices (bytes): {setup_matrices}\")\n",
    "setup_matrices_bytes = sum(setup_matrices.values())\n",
    "print(f\"Memory footprint for setup matrices (bytes/megabytes/gigabytes): {setup_matrices_bytes, setup_matrices_bytes / 10**6, setup_matrices_bytes / 10**9}\\n\")\n",
    "\n",
    "print(f\"Solver matrices (bytes): {solver_matrices}\")\n",
    "solver_matrices_bytes = sum(solver_matrices.values())\n",
    "print(f\"Memory footprint for solver matrices (bytes/megabytes/gigabytes): {solver_matrices_bytes, solver_matrices_bytes / 10**6, solver_matrices_bytes / 10**9}\\n\")\n",
    "\n",
    "super_resolution_possible = l**2 <= np.minimum((psf_support - 2) * m**2, n * m**2)\n",
    "print(f\"Is super-resolution possible with your configuration: {super_resolution_possible}\")\n",
    "print(f\"l^2:                      {l**2}\")\n",
    "print(f\"(psf_support - 2) * m^2:  {(psf_support - 2) * m**2}\")\n",
    "print(f\"n * m^2:                  {n * m**2}\")"
   ]
  },
  {
   "cell_type": "code",
   "execution_count": null,
   "id": "52481d51-d552-4da7-a934-fe6b7ebbefbb",
   "metadata": {},
   "outputs": [],
   "source": []
  }
 ],
 "metadata": {
  "kernelspec": {
   "display_name": "Python 3 (ipykernel)",
   "language": "python",
   "name": "python3"
  },
  "language_info": {
   "codemirror_mode": {
    "name": "ipython",
    "version": 3
   },
   "file_extension": ".py",
   "mimetype": "text/x-python",
   "name": "python",
   "nbconvert_exporter": "python",
   "pygments_lexer": "ipython3",
   "version": "3.10.5"
  }
 },
 "nbformat": 4,
 "nbformat_minor": 5
}
