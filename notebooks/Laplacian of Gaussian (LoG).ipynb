{
 "cells": [
  {
   "cell_type": "markdown",
   "id": "7106ef65-be2e-48f5-bdfd-e0e85a251f49",
   "metadata": {},
   "source": [
    "# The Laplacian of Gaussian kernel\n",
    "As noted by [1], when when one wishes to apply a sharpening filter (i.e., laplacian) over an image to increase edge intensity, one would typically apply a gaussian smoothing convolution filter before sharpening. The main purpose for smoothing prior to sharpening, is that the laplacian is sensitive to noise, and as such high-frequency noise components are reduced and hence not enhanced by the effects of sharpening. The author notes that one might first perform convolution of a gaussian filter, followed by convolution of a sharpening filter onto the desired image to be sharpened. The author suggests that one might instead save on overall computional effort by first convolving the gaussian filter with the sharpening filter, and then use the merged filter as a combination smoothing-sharpening filter - the Laplacian of Gaussian (LoG) filter:\n",
    "\n",
    "$\\Large LoG(x, y) = -\\frac{1}{\\pi \\sigma^4} \\begin{bmatrix} 1 - \\frac{x^2 + y^2}{2\\sigma^2}\\end{bmatrix} e^{- \\frac{x^2+y^2}{2\\sigma^2}} $\n",
    "\n",
    "The author notes that they define the Laplacian using a negative peak, but use of the opposite sign is also valid.\n",
    "\n",
    "[1] https://homepages.inf.ed.ac.uk/rbf/HIPR2/log.htm"
   ]
  },
  {
   "cell_type": "code",
   "execution_count": 1,
   "id": "e4a346e4-a17b-41b0-a052-9a43bf9ac7b2",
   "metadata": {},
   "outputs": [],
   "source": [
    "%matplotlib inline\n",
    "\n",
    "import numpy as np\n",
    "import matplotlib.pyplot as plt\n",
    "\n",
    "plt.rcParams['figure.figsize'] = [10, 10]\n",
    "\n",
    "def laplacian_of_gaussian(x, y, sigma):\n",
    "    p = (x**2.0 + y**2.0) / 2.0 * sigma**2.0\n",
    "    return -(1.0 / (np.pi * sigma**4.0)) * (1.0 - p) * np.exp(-p)"
   ]
  },
  {
   "cell_type": "code",
   "execution_count": null,
   "id": "673ee228-5e39-444f-bb9e-bab85dd59e68",
   "metadata": {},
   "outputs": [],
   "source": [
    "# Notes on inflection points: \n",
    "# https://magoosh.com/hs/ap/ap-calculus-review-inflection-points/\n",
    "# https://www.geeksforgeeks.org/inflection-points/\n",
    "\n",
    "sig_min = 1.0\n",
    "sig_max = 5.0\n",
    "n = 50\n",
    "sigmas = np.linspace(sig_min, sig_max, n, endpoint=True)\n",
    "# print(sigmas)\n",
    "samples = 50 # num pixels around centre of PSF which represent approx 1/3 of the curve\n",
    "steps = np.linspace(-(samples-1) // 2, (samples-1) // 2, num=samples)\n",
    "\n",
    "for s in sigmas:\n",
    "    log = np.zeros((samples, samples))\n",
    "\n",
    "    for x in np.arange(steps.shape[0]):\n",
    "        for y in np.arange(steps.shape[0]):\n",
    "            log[x][y] = -laplacian_of_gaussian(steps[x], steps[y], s)\n",
    "            \n",
    "    plt.plot(log[log.shape[0]//2] / np.max(log))\n",
    "    \n",
    "plt.show()"
   ]
  },
  {
   "cell_type": "code",
   "execution_count": null,
   "id": "fcd33606-c241-4f7a-a1a2-86b3fcd4b638",
   "metadata": {},
   "outputs": [],
   "source": [
    "\n",
    "# test this log to see if it reports similar results as current laplacian, might need to scale beta by 4.0 or 16.0\n",
    "# then play around with sigma to see what effect this has on solved x vs true x accuracy"
   ]
  },
  {
   "cell_type": "code",
   "execution_count": null,
   "id": "ed59b545-b32b-4256-afe7-e4f13a4a838c",
   "metadata": {},
   "outputs": [],
   "source": []
  },
  {
   "cell_type": "code",
   "execution_count": null,
   "id": "a3a40ba7-d1b0-4a9b-b056-cf057349e58f",
   "metadata": {},
   "outputs": [],
   "source": []
  }
 ],
 "metadata": {
  "kernelspec": {
   "display_name": "Python 3 (ipykernel)",
   "language": "python",
   "name": "python3"
  },
  "language_info": {
   "codemirror_mode": {
    "name": "ipython",
    "version": 3
   },
   "file_extension": ".py",
   "mimetype": "text/x-python",
   "name": "python",
   "nbconvert_exporter": "python",
   "pygments_lexer": "ipython3",
   "version": "3.10.5"
  }
 },
 "nbformat": 4,
 "nbformat_minor": 5
}
