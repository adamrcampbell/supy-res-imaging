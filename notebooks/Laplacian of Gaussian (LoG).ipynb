{
 "cells": [
  {
   "cell_type": "markdown",
   "id": "7106ef65-be2e-48f5-bdfd-e0e85a251f49",
   "metadata": {},
   "source": [
    "# The Laplacian of Gaussian kernel\n",
    "As noted by [1], when when one wishes to apply a sharpening filter (i.e., laplacian) over an image to increase edge intensity, one would typically apply a gaussian smoothing convolution filter before sharpening. The main purpose for smoothing prior to sharpening, is that the laplacian is sensitive to noise, and as such high-frequency noise components are reduced and hence not enhanced by the effects of sharpening. The author notes that one might first perform convolution of a gaussian filter, followed by convolution of a sharpening filter onto the desired image to be sharpened. The author suggests that one might instead save on overall computional effort by first convolving the gaussian filter with the sharpening filter, and then use the merged filter as a combination smoothing-sharpening filter - the Laplacian of Gaussian (LoG) filter:\n",
    "\n",
    "$\\Large LoG(x, y) = -\\frac{1}{\\pi \\sigma^4} \\begin{bmatrix} 1 - \\frac{x^2 + y^2}{2\\sigma^2}\\end{bmatrix} e^{- \\frac{x^2+y^2}{2\\sigma^2}} $\n",
    "\n",
    "The author notes that they define the Laplacian using a negative peak, but use of the opposite sign is also valid.\n",
    "\n",
    "[1] https://homepages.inf.ed.ac.uk/rbf/HIPR2/log.htm"
   ]
  },
  {
   "cell_type": "code",
   "execution_count": 1,
   "id": "e4a346e4-a17b-41b0-a052-9a43bf9ac7b2",
   "metadata": {},
   "outputs": [],
   "source": [
    "%matplotlib inline\n",
    "\n",
    "import numpy as np\n",
    "import matplotlib.pyplot as plt\n",
    "\n",
    "def laplacian_of_gaussian(x, y, sigma):\n",
    "    p = (x**2.0 + y**2.0) / 2.0 * sigma**2.0\n",
    "    return -(1.0 / (np.pi * sigma**4.0)) * (1.0 - p) * np.exp(-p)"
   ]
  },
  {
   "cell_type": "code",
   "execution_count": 100,
   "id": "673ee228-5e39-444f-bb9e-bab85dd59e68",
   "metadata": {},
   "outputs": [],
   "source": [
    "# Notes on inflection points: \n",
    "# https://magoosh.com/hs/ap/ap-calculus-review-inflection-points/\n",
    "# https://www.geeksforgeeks.org/inflection-points/\n",
    "\n",
    "sigma = 0.024247946 * 2 # std dev of full PSF * 2 (as std dev goes outwards from center, pos and neg)?\n",
    "samples = 99 # valid number of samples in PSF (excludes first full row and col, to enforce symmetry around center)\n",
    "steps = np.linspace(-100.0, 100.0, num=samples)\n",
    "log = np.zeros((samples, samples))\n",
    "\n",
    "for x in np.arange(steps.shape[0]):\n",
    "    for y in np.arange(steps.shape[0]):\n",
    "        log[x][y] = laplacian_of_gaussian(steps[x], steps[y], sigma)"
   ]
  },
  {
   "cell_type": "code",
   "execution_count": 102,
   "id": "fcd33606-c241-4f7a-a1a2-86b3fcd4b638",
   "metadata": {},
   "outputs": [
    {
     "data": {
      "image/png": "[encoded data removed]",
      "text/plain": [
       "<Figure size 432x288 with 1 Axes>"
      ]
     },
     "metadata": {
      "needs_background": "light"
     },
     "output_type": "display_data"
    },
    {
     "name": "stdout",
     "output_type": "stream",
     "text": [
      "99\n"
     ]
    }
   ],
   "source": [
    "plt.plot(log[log.shape[0]//2])\n",
    "# plt.imshow(log)\n",
    "plt.show()"
   ]
  },
  {
   "cell_type": "code",
   "execution_count": null,
   "id": "ed59b545-b32b-4256-afe7-e4f13a4a838c",
   "metadata": {},
   "outputs": [],
   "source": []
  },
  {
   "cell_type": "code",
   "execution_count": null,
   "id": "a3a40ba7-d1b0-4a9b-b056-cf057349e58f",
   "metadata": {},
   "outputs": [],
   "source": []
  }
 ],
 "metadata": {
  "kernelspec": {
   "display_name": "Python 3 (ipykernel)",
   "language": "python",
   "name": "python3"
  },
  "language_info": {
   "codemirror_mode": {
    "name": "ipython",
    "version": 3
   },
   "file_extension": ".py",
   "mimetype": "text/x-python",
   "name": "python",
   "nbconvert_exporter": "python",
   "pygments_lexer": "ipython3",
   "version": "3.10.4"
  }
 },
 "nbformat": 4,
 "nbformat_minor": 5
}
