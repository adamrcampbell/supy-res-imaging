{
 "cells": [
  {
   "cell_type": "code",
   "execution_count": 3,
   "id": "51991948-7406-4f23-ac5a-97858510c28a",
   "metadata": {},
   "outputs": [
    {
     "name": "stdin",
     "output_type": "stream",
     "text": [
      "Once deleted, variables cannot be recovered. Proceed (y/[n])?  y\n"
     ]
    }
   ],
   "source": [
    "%matplotlib inline\n",
    "\n",
    "import gc\n",
    "\n",
    "import numpy as np\n",
    "import matplotlib.pyplot as plt\n",
    "\n",
    "from scipy.signal import convolve2d\n",
    "\n",
    "from skimage import data, io, color\n",
    "from skimage.transform import resize\n",
    "\n",
    "plt.rcParams['figure.figsize'] = [8, 8]\n",
    "\n",
    "def show_plot(image):\n",
    "    plt.imshow(image, cmap=plt.get_cmap(\"gray\"))\n",
    "    plt.colorbar()\n",
    "    plt.show()"
   ]
  },
  {
   "cell_type": "markdown",
   "id": "700fb6a0-1932-428e-a19c-5ca060a89079",
   "metadata": {},
   "source": [
    "##### Decimation matrix - assumes only taking 4 neighbours and that $L = M*2$"
   ]
  },
  {
   "cell_type": "code",
   "execution_count": null,
   "id": "ebbe90ef-c36d-42a4-97d9-6cf48eb2ec52",
   "metadata": {},
   "outputs": [],
   "source": [
    "# l = 8\n",
    "# m = 4\n",
    "# d = l // m\n",
    "\n",
    "# d_matrix = np.zeros((m**2, l**2))\n",
    "\n",
    "# tile = np.repeat((1, 0, 1), (2, l - 2, 2)) # assuming taking 2 neighbours per dimension\n",
    "# t_len = tile.shape[0]\n",
    "\n",
    "# for p in np.arange(l//4):\n",
    "#     p_offset = p * l # 8\n",
    "#     for q in np.arange(m):\n",
    "#         d_matrix[q+ p_offset//2, q*d + p_offset*2 : q*d+t_len + p_offset*2] = tile # top-left quadrant\n",
    "#         r_offset = m**2 // 2\n",
    "#         c_offset = l**2 // 2\n",
    "#         d_matrix[q+r_offset + p_offset//2, q*d+c_offset + p_offset*2: q*d+t_len+c_offset + p_offset*2] = tile # bottom-right quadrant"
   ]
  },
  {
   "cell_type": "code",
   "execution_count": null,
   "id": "bbc4a697-0b10-4653-843d-287d0b0b1ea0",
   "metadata": {},
   "outputs": [],
   "source": [
    "# x = np.arange(1, 65) # 1..64\n",
    "# print(x.reshape(8, 8))\n",
    "\n",
    "# y = np.matmul(d_matrix * 1/4, x)\n",
    "# print(y.reshape(4, 4))"
   ]
  },
  {
   "cell_type": "markdown",
   "id": "9970d022-cf44-4a74-a1f5-5829da2507da",
   "metadata": {},
   "source": [
    "##### Sharpening matrix - Laplacian operator"
   ]
  },
  {
   "cell_type": "code",
   "execution_count": null,
   "id": "de8135b9-0a70-4508-a23f-7637ee572d4f",
   "metadata": {},
   "outputs": [],
   "source": [
    "# x_true = color.rgb2gray(data.astronaut())\n",
    "# x = resize(x_true, (100, 100), anti_aliasing=True)\n",
    "# show_plot(x)\n",
    "\n",
    "# laplace_deblur = np.array([[0, -1,  0], [-1,  4, -1], [0, -1,  0]], dtype=np.float32)\n",
    "# show_plot(convolve2d(x, laplace_deblur, mode=\"same\") )\n",
    "\n",
    "# NOTE: Assumes you will be matrix multiplying this against an image of l*l, padded by one border of zeros\n",
    "# Adam: see if this is correct, compare this against the convolve2d results from above\n",
    "\n",
    "l = 200\n",
    "laplacian = np.array([[1.0, 2.0, 1.0], [2.0, 4.0, 2.0], [1.0, 2.0, 1.0]], dtype=np.float32)\n",
    "laplacian_dim = laplacian.shape[0]\n",
    "padding = laplacian_dim - 1 # s_matrix padding for out of bounds convolution\n",
    "laplacian = laplacian.flatten()\n",
    "strided_laplacian = np.insert(laplacian, laplacian_dim, np.repeat(0, l-1))\n",
    "strided_laplacian = np.insert(strided_laplacian, laplacian_dim*2+l-1, np.repeat(0, l-1))\n",
    "print(\"%f kilobytes approx \" % (strided_laplacian.nbytes/(2**10)))\n",
    "s_matrix = np.zeros(((l+padding)**2, (l+padding)**2), dtype=np.float32)\n",
    "print(\"%f gigabytes approx\" % (s_matrix.nbytes/(2**30)))\n",
    "# sr_offset = l+padding+padding//2\n",
    "\n",
    "# for sr in np.arange(l):\n",
    "#     for r in np.arange(l):\n",
    "#         row_offset = (sr*l)+(l+padding+padding//2)+(padding*sr)\n",
    "#         col_offset = sr*(l+padding)+r\n",
    "#         s_matrix[row_offset+r, col_offset:col_offset+strided_laplacian.shape[0]] = strided_laplacian\n",
    "        \n",
    "# show_plot(s_matrix)"
   ]
  },
  {
   "cell_type": "code",
   "execution_count": null,
   "id": "34b2b03c-b433-40f8-acb6-842ad95edae0",
   "metadata": {},
   "outputs": [],
   "source": []
  },
  {
   "cell_type": "code",
   "execution_count": null,
   "id": "9bc2e38d-ad35-4986-ad2f-bb4bae01d201",
   "metadata": {},
   "outputs": [],
   "source": []
  }
 ],
 "metadata": {
  "kernelspec": {
   "display_name": "Python 3 (ipykernel)",
   "language": "python",
   "name": "python3"
  },
  "language_info": {
   "codemirror_mode": {
    "name": "ipython",
    "version": 3
   },
   "file_extension": ".py",
   "mimetype": "text/x-python",
   "name": "python",
   "nbconvert_exporter": "python",
   "pygments_lexer": "ipython3",
   "version": "3.10.4"
  }
 },
 "nbformat": 4,
 "nbformat_minor": 5
}
