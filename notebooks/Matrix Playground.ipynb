{
 "cells": [
  {
   "cell_type": "code",
   "execution_count": 1,
   "id": "51991948-7406-4f23-ac5a-97858510c28a",
   "metadata": {},
   "outputs": [],
   "source": [
    "%matplotlib inline\n",
    "\n",
    "import numpy as np\n",
    "import matplotlib.pyplot as plt\n",
    "\n",
    "from scipy.signal import convolve2d\n",
    "\n",
    "from skimage import data, io, color\n",
    "from skimage.transform import resize\n",
    "\n",
    "plt.rcParams['figure.figsize'] = [8, 8]\n",
    "\n",
    "def show_plot(image):\n",
    "    plt.imshow(image, cmap=plt.get_cmap(\"gray\"))\n",
    "    plt.colorbar()\n",
    "    plt.show()"
   ]
  },
  {
   "cell_type": "markdown",
   "id": "700fb6a0-1932-428e-a19c-5ca060a89079",
   "metadata": {},
   "source": [
    "##### Decimation matrix - assumes only taking 4 neighbours and that $L = M*2$"
   ]
  },
  {
   "cell_type": "code",
   "execution_count": 2,
   "id": "ebbe90ef-c36d-42a4-97d9-6cf48eb2ec52",
   "metadata": {},
   "outputs": [],
   "source": [
    "# l = 8\n",
    "# m = 4\n",
    "# d = l // m\n",
    "\n",
    "# d_matrix = np.zeros((m**2, l**2))\n",
    "\n",
    "# tile = np.repeat((1, 0, 1), (2, l - 2, 2)) # assuming taking 2 neighbours per dimension\n",
    "# t_len = tile.shape[0]\n",
    "\n",
    "# for p in np.arange(l//4):\n",
    "#     p_offset = p * l # 8\n",
    "#     for q in np.arange(m):\n",
    "#         d_matrix[q+ p_offset//2, q*d + p_offset*2 : q*d+t_len + p_offset*2] = tile # top-left quadrant\n",
    "#         r_offset = m**2 // 2\n",
    "#         c_offset = l**2 // 2\n",
    "#         d_matrix[q+r_offset + p_offset//2, q*d+c_offset + p_offset*2: q*d+t_len+c_offset + p_offset*2] = tile # bottom-right quadrant"
   ]
  },
  {
   "cell_type": "code",
   "execution_count": 3,
   "id": "bbc4a697-0b10-4653-843d-287d0b0b1ea0",
   "metadata": {},
   "outputs": [],
   "source": [
    "# x = np.arange(1, 65) # 1..64\n",
    "# print(x.reshape(8, 8))\n",
    "\n",
    "# y = np.matmul(d_matrix * 1/4, x)\n",
    "# print(y.reshape(4, 4))"
   ]
  },
  {
   "cell_type": "markdown",
   "id": "9970d022-cf44-4a74-a1f5-5829da2507da",
   "metadata": {},
   "source": [
    "##### Sharpening matrix - Laplacian operator"
   ]
  },
  {
   "cell_type": "code",
   "execution_count": 149,
   "id": "de8135b9-0a70-4508-a23f-7637ee572d4f",
   "metadata": {},
   "outputs": [
    {
     "data": {
      "image/png": "[encoded data removed]",
      "text/plain": [
       "<Figure size 576x576 with 2 Axes>"
      ]
     },
     "metadata": {
      "needs_background": "light"
     },
     "output_type": "display_data"
    }
   ],
   "source": [
    "# x_true = color.rgb2gray(data.astronaut())\n",
    "# x = resize(x_true, (100, 100), anti_aliasing=True)\n",
    "# show_plot(x)\n",
    "\n",
    "# laplace_deblur = np.array([[0, -1,  0], [-1,  4, -1], [0, -1,  0]], dtype=np.float32)\n",
    "# show_plot(convolve2d(x, laplace_deblur, mode=\"same\") )\n",
    "\n",
    "# l = x.shape[0]\n",
    "l = 4\n",
    "s_matrix = np.zeros((l**2, l**2))\n",
    "laplacian = np.array([[1.0, 2.0, 1.0], [2.0, 4.0, 2.0], [1.0, 2.0, 1.0]])\n",
    "\n",
    "for s_r in np.arange(1):\n",
    "    for k_r in np.arange(laplacian.shape[0]):\n",
    "        \n",
    "        \n",
    "show_plot(s_matrix)\n",
    "        \n",
    "# laplacian = np.array([0.0, -1.0, 0.0, -1.0, 4.0, -1.0, 0.0, -1.0, 0.0])\n",
    "# for r in np.arange(l**2):\n",
    "#     left_trim = np.absolute(min(r-4, 0))\n",
    "#     right_trim = max(r+5-l**2, 0)\n",
    "#     s_matrix[r, max(r-4, 0) : min(r+5, l**2)] = laplacian[left_trim:9-right_trim]\n",
    "        \n",
    "# convolved = np.matmul(s_matrix, x.flatten())\n",
    "# show_plot(convolved.reshape(100, 100))"
   ]
  },
  {
   "cell_type": "code",
   "execution_count": null,
   "id": "34b2b03c-b433-40f8-acb6-842ad95edae0",
   "metadata": {},
   "outputs": [],
   "source": []
  },
  {
   "cell_type": "code",
   "execution_count": null,
   "id": "9bc2e38d-ad35-4986-ad2f-bb4bae01d201",
   "metadata": {},
   "outputs": [],
   "source": []
  }
 ],
 "metadata": {
  "kernelspec": {
   "display_name": "Python 3 (ipykernel)",
   "language": "python",
   "name": "python3"
  },
  "language_info": {
   "codemirror_mode": {
    "name": "ipython",
    "version": 3
   },
   "file_extension": ".py",
   "mimetype": "text/x-python",
   "name": "python",
   "nbconvert_exporter": "python",
   "pygments_lexer": "ipython3",
   "version": "3.10.2"
  }
 },
 "nbformat": 4,
 "nbformat_minor": 5
}
