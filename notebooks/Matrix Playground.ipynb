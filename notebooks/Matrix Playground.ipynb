{
 "cells": [
  {
   "cell_type": "code",
   "execution_count": 1,
   "id": "51991948-7406-4f23-ac5a-97858510c28a",
   "metadata": {},
   "outputs": [],
   "source": [
    "%matplotlib inline\n",
    "\n",
    "import numpy as np\n",
    "import matplotlib.pyplot as plt\n",
    "\n",
    "from scipy.signal import convolve2d\n",
    "\n",
    "from skimage import data, io, color\n",
    "from skimage.transform import resize\n",
    "\n",
    "plt.rcParams['figure.figsize'] = [10, 10]\n",
    "\n",
    "def show_plot(image):\n",
    "    plt.imshow(image, cmap=plt.get_cmap(\"gray\"))\n",
    "    plt.xticks(np.arange(image.shape[0]))\n",
    "    plt.yticks(np.arange(image.shape[0]))\n",
    "    plt.colorbar()\n",
    "    plt.show()\n",
    "    \n",
    "def normalise(data):\n",
    "    return (data - np.min(data)) / (np.max(data) - np.min(data))\n",
    "\n",
    "def linear_to_row_col(index, row_width):\n",
    "    return (index // row_width, index % row_width)"
   ]
  },
  {
   "cell_type": "markdown",
   "id": "700fb6a0-1932-428e-a19c-5ca060a89079",
   "metadata": {},
   "source": [
    "##### Decimation matrix (row major) - assumes only taking 4 neighbours and that $L = M*2$"
   ]
  },
  {
   "cell_type": "code",
   "execution_count": 2,
   "id": "ebbe90ef-c36d-42a4-97d9-6cf48eb2ec52",
   "metadata": {},
   "outputs": [],
   "source": [
    "# l = 4\n",
    "# m = 2\n",
    "# d = l // m\n",
    "\n",
    "# d_matrix = np.zeros((m**2, l**2))\n",
    "\n",
    "# tile = np.repeat((1, 0, 1), (2, l - 2, 2)) # assuming taking 2 neighbours per dimension\n",
    "# t_len = tile.shape[0]\n",
    "\n",
    "# for p in np.arange(l//4):\n",
    "#     p_offset = p * l # 8\n",
    "#     for q in np.arange(m):\n",
    "#         d_matrix[q+ p_offset//2, q*d + p_offset*2 : q*d+t_len + p_offset*2] = tile # top-left quadrant\n",
    "#         r_offset = m**2 // 2\n",
    "#         c_offset = l**2 // 2\n",
    "#         d_matrix[q+r_offset + p_offset//2, q*d+c_offset + p_offset*2: q*d+t_len+c_offset + p_offset*2] = tile # bottom-right quadrant\n",
    "        \n",
    "# print(d_matrix)"
   ]
  },
  {
   "cell_type": "code",
   "execution_count": 3,
   "id": "8aa309fc-df94-43db-ba2b-4880e9fd692b",
   "metadata": {},
   "outputs": [],
   "source": [
    "# x = np.arange(1, 65) # 1..64\n",
    "# print(x.reshape(8, 8))\n",
    "\n",
    "# y = np.matmul(d_matrix * 1/4, x)\n",
    "# print(y.reshape(4, 4))"
   ]
  },
  {
   "cell_type": "markdown",
   "id": "19690611-6387-4989-bfd9-054710062f70",
   "metadata": {},
   "source": [
    "##### Decimation matrix - downsample matrix $l^2$ by integer factor $n$ (assumes $n$ is suitable factor of $l$ shape)"
   ]
  },
  {
   "cell_type": "code",
   "execution_count": 159,
   "id": "bd084530-7b83-4394-a628-38ae1c0a436d",
   "metadata": {},
   "outputs": [
    {
     "name": "stdout",
     "output_type": "stream",
     "text": [
      "Sampling regions per dimension: 3\n",
      "(9, 81)\n",
      "[0 3 6]\n",
      "[[0 0]\n",
      " [0 3]\n",
      " [0 6]\n",
      " [3 0]\n",
      " [3 3]\n",
      " [3 6]\n",
      " [6 0]\n",
      " [6 3]\n",
      " [6 6]]\n",
      "Index: 0\n",
      "[ 0  1  2  9 10 11 18 19 20]\n",
      "\n",
      "\n",
      "Index: 1\n",
      "[ 3  4  5 12 13 14 21 22 23]\n",
      "\n",
      "\n",
      "Index: 2\n",
      "[ 6  7  8 15 16 17 24 25 26]\n",
      "\n",
      "\n",
      "Index: 3\n",
      "[27 28 29 36 37 38 45 46 47]\n",
      "\n",
      "\n",
      "Index: 4\n",
      "[30 31 32 39 40 41 48 49 50]\n",
      "\n",
      "\n",
      "Index: 5\n",
      "[33 34 35 42 43 44 51 52 53]\n",
      "\n",
      "\n",
      "Index: 6\n",
      "[54 55 56 63 64 65 72 73 74]\n",
      "\n",
      "\n",
      "Index: 7\n",
      "[57 58 59 66 67 68 75 76 77]\n",
      "\n",
      "\n",
      "Index: 8\n",
      "[60 61 62 69 70 71 78 79 80]\n",
      "\n",
      "\n"
     ]
    },
    {
     "data": {
      "image/png": "[encoded data removed]",
      "text/plain": [
       "<Figure size 720x720 with 2 Axes>"
      ]
     },
     "metadata": {
      "needs_background": "light"
     },
     "output_type": "display_data"
    },
    {
     "name": "stdout",
     "output_type": "stream",
     "text": [
      "(9,)\n",
      "[[ 90. 117. 144.]\n",
      " [333. 360. 387.]\n",
      " [576. 603. 630.]]\n"
     ]
    }
   ],
   "source": [
    "def decimation_matrix(original_dim, downsample_factor):\n",
    "    \n",
    "    if original_dim % downsample_factor != 0:\n",
    "        raise ValueError(f\"Downsample factor {downsample_factor} is not a valid factor of your matrix dimension {original_dim}.\")\n",
    "    if downsample_factor == original_dim:\n",
    "        raise ValueError(f\"Downsample factor {downsample_factor} cannot be the same as your matrix dimension {original_dim}.\")\n",
    "    if downsample_factor == 1: # effectively, no downsampling\n",
    "        return np.identity(original_dim**2)\n",
    "    # Otherwise assumed you want to downsample by a valid factor of original_dim...\n",
    "    \n",
    "    sampling_regions_per_dim = original_dim // downsample_factor\n",
    "    samples_per_region_dim = downsample_factor\n",
    "    print(f\"Sampling regions per dimension: {sampling_regions_per_dim}\")\n",
    "    deci = np.zeros((sampling_regions_per_dim**2, original_dim**2))\n",
    "    print(deci.shape)\n",
    "    \n",
    "    # Points needed for 9x9 down to 3x3...\n",
    "    # (0,0), (0,3), (0,6), (3,0), (3,3), (3,6), (6,0), (6,3), (6,6)...\n",
    "    # Generates linear x,y index strides for downsampling\n",
    "    sample_stride_1D = np.arange(0, original_dim, downsample_factor)\n",
    "    print(sample_stride_1D)\n",
    "    mesh = np.array(np.meshgrid(sample_stride_1D, sample_stride_1D))\n",
    "    sample_strides_2D = mesh.T.reshape(-1, 2)\n",
    "    print(sample_strides_2D)\n",
    "  \n",
    "    neighbour_strides_1D = np.arange(samples_per_region_dim)\n",
    "    neighbour_mesh = np.array(np.meshgrid(neighbour_strides_1D, neighbour_strides_1D))\n",
    "\n",
    "    for index in np.arange(sample_strides_2D.shape[0]):\n",
    "        print(f\"Index: {index}\")\n",
    "        neighbour_coords = neighbour_mesh.T.reshape(-1, 2) + sample_strides_2D[index] # generates (row, col) index pair for the nxn neighbours of each sampling point in sample_strides_2D\n",
    "        neighbour_coords[:, 0] *= original_dim # scale y coord by high-resolution image dim to enable row striding (due to column-vector matrix flattening)\n",
    "        neighbour_coords = np.sum(neighbour_coords, axis=1) # combine x and y coord into single array index\n",
    "        print(neighbour_coords)\n",
    "        deci[index, neighbour_coords] = 1.0\n",
    "        print()\n",
    "        print()\n",
    "        \n",
    "    return deci\n",
    "    \n",
    "# Testing of new decimation matrix routine\n",
    "l = np.arange(9**2)\n",
    "# print(l.reshape(8, 8))\n",
    "d = decimation_matrix(9, 3)\n",
    "show_plot(d)\n",
    "m = d @ l\n",
    "print(m.shape)\n",
    "print(m.reshape(3, 3))"
   ]
  },
  {
   "cell_type": "markdown",
   "id": "9970d022-cf44-4a74-a1f5-5829da2507da",
   "metadata": {},
   "source": [
    "##### Sharpening matrix (padded)"
   ]
  },
  {
   "cell_type": "code",
   "execution_count": 5,
   "id": "de8135b9-0a70-4508-a23f-7637ee572d4f",
   "metadata": {},
   "outputs": [],
   "source": [
    "# x_true = color.rgb2gray(data.astronaut())\n",
    "# x = resize(x_true, (100, 100), anti_aliasing=True)\n",
    "# show_plot(x)\n",
    "\n",
    "# laplace_deblur = np.array([[0, -1,  0], [-1,  4, -1], [0, -1,  0]], dtype=np.float32)\n",
    "# scikit_convolved = normalise(convolve2d(x, laplace_deblur, mode=\"same\"))\n",
    "# show_plot(scikit_convolved)\n",
    "\n",
    "# l = x.shape[0]\n",
    "# laplacian = np.array([[0, -1, 0], [-1, 4, -1], [0, -1, 0]], dtype=np.float32)\n",
    "# laplacian_dim = laplacian.shape[0]\n",
    "# padding = laplacian_dim - 1 # s_matrix padding for out of bounds convolution\n",
    "# laplacian = laplacian.flatten()\n",
    "# strided_laplacian = np.insert(laplacian, laplacian_dim, np.repeat(0, l-1))\n",
    "# strided_laplacian = np.insert(strided_laplacian, laplacian_dim*2+l-1, np.repeat(0, l-1))\n",
    "# s_matrix = np.zeros(((l+padding)**2, (l+padding)**2), dtype=np.float32)\n",
    "\n",
    "# for sr in np.arange(l):\n",
    "#     for r in np.arange(l):\n",
    "#         row_offset = (sr*l)+(l+padding+padding//2)+(padding*sr)\n",
    "#         col_offset = sr*(l+padding)+r\n",
    "#         s_matrix[row_offset+r, col_offset:col_offset+strided_laplacian.shape[0]] = strided_laplacian\n",
    "\n",
    "# show_plot(s_matrix)\n",
    "        \n",
    "# x_padded = np.pad(x, 1)\n",
    "# x_padded = x_padded.reshape(1, x_padded.shape[0]**2)\n",
    "# x_padded = np.matmul(s_matrix, x_padded.T)\n",
    "# x_padded = x_padded.reshape(102, 102)[1:101, 1:101]\n",
    "        \n",
    "# show_plot(normalise(x_padded))\n",
    "# show_plot(scikit_convolved - normalise(x_padded))"
   ]
  },
  {
   "cell_type": "markdown",
   "id": "638a4853-e2af-4d4c-8a04-da18eee98ff9",
   "metadata": {},
   "source": [
    "##### Sharpening matrix (no padding)"
   ]
  },
  {
   "cell_type": "code",
   "execution_count": 6,
   "id": "2781a4c5-f296-44fb-b8cc-124946b0652e",
   "metadata": {},
   "outputs": [],
   "source": [
    "# x_true = color.rgb2gray(data.astronaut())\n",
    "# x = resize(x_true, (50, 50), anti_aliasing=True)\n",
    "# show_plot(x)\n",
    "\n",
    "# l = x.shape[0]\n",
    "\n",
    "# s_matrix = np.zeros((l**2, l**2))\n",
    "# # laplace = np.array([[0, -1,  0], [-1,  4, -1], [0, -1,  0]], dtype=np.float32)\n",
    "# laplace = np.array([[1, 4, 7, 4, 1], [4, 16, 26, 16, 4], [7, 26, 41, 26, 7], [4, 16, 26, 16, 4], [1, 4, 7, 4, 1]], dtype=np.float32) * 1/273\n",
    "# kernel_dim = laplace.shape[0]\n",
    "# kernel_half_supp = (kernel_dim - 1) // 2\n",
    "\n",
    "# for s_row in np.arange(l**2):\n",
    "    \n",
    "#     row, col = linear_to_row_col(s_row, l)\n",
    "    \n",
    "#     for k_row in np.arange(-(kernel_half_supp), kernel_half_supp + 1):\n",
    "#         # map \"kernel row\" to rows in s_matrix\n",
    "#         mapped_row = row + k_row\n",
    "#         # ignore any out of bounds rows\n",
    "#         if mapped_row >= 0 and mapped_row < l:\n",
    "#             linear_col = col - kernel_half_supp\n",
    "#             # truncate negative columns\n",
    "#             mapped_col_start = max(linear_col, 0)\n",
    "#             # truncate columns which exceed the l dimension\n",
    "#             mapped_col_end = min(linear_col + kernel_dim, l)\n",
    "#             # left trimming for kernels when overlapping out of bounds region in s_matrix (col < 0)\n",
    "#             left = np.absolute(col - kernel_half_supp) if linear_col < 0 else 0\n",
    "#             # right trimming for kernels when overlapping out of bounds region in s_matrix (col >= l)\n",
    "#             right = linear_col + kernel_dim - l if linear_col + kernel_dim >= l else 0 \n",
    "#             # copy over kernel row for current k_row, possibly including trimming for out of bounds coordinates\n",
    "#             s_matrix[s_row][mapped_row * l + mapped_col_start : mapped_row * l + mapped_col_end] = laplace[k_row+kernel_half_supp][left: left + kernel_dim - right]\n",
    "\n",
    "# s_matrix = np.zeros((l**2, l**2))\n",
    "# show_plot(s_matrix)\n",
    "\n",
    "# laplace_deblur = np.array([[0, -1,  0], [-1,  4, -1], [0, -1,  0]], dtype=np.float32)\n",
    "# scikit_convolved = normalise(convolve2d(x, laplace, mode=\"same\"))\n",
    "# show_plot(scikit_convolved)\n",
    "\n",
    "# x = x.reshape(1, x.shape[0]**2)\n",
    "# x = np.matmul(s_matrix, x.T)\n",
    "# x = x.reshape(50, 50)\n",
    "        \n",
    "# show_plot(normalise(x))\n",
    "# show_plot(scikit_convolved - normalise(x))"
   ]
  },
  {
   "cell_type": "markdown",
   "id": "ccc190eb-c6f2-437e-abe7-a25c8bac9012",
   "metadata": {},
   "source": [
    "#### $L_{1}$ and $L_{\\infty}$ norms of a matrix"
   ]
  },
  {
   "cell_type": "code",
   "execution_count": 7,
   "id": "92e55d4c-dc38-4f79-aaa2-7f93d3af1943",
   "metadata": {},
   "outputs": [],
   "source": [
    "# x = np.arange(1, 10).reshape(3, 3)\n",
    "# print(x)\n",
    "\n",
    "# # Max absolute column sum of matrix\n",
    "# l_one = np.max(np.sum(np.absolute(x), axis=0))\n",
    "# print(l_one)\n",
    "\n",
    "# # Max absolute row sum of matrix\n",
    "# l_inf = np.max(np.sum(np.absolute(x), axis=1))\n",
    "# print(l_inf)"
   ]
  },
  {
   "cell_type": "code",
   "execution_count": null,
   "id": "7b5ea7b0-3be5-4d3b-bc85-00a79c7afa46",
   "metadata": {},
   "outputs": [],
   "source": []
  }
 ],
 "metadata": {
  "kernelspec": {
   "display_name": "Python 3 (ipykernel)",
   "language": "python",
   "name": "python3"
  },
  "language_info": {
   "codemirror_mode": {
    "name": "ipython",
    "version": 3
   },
   "file_extension": ".py",
   "mimetype": "text/x-python",
   "name": "python",
   "nbconvert_exporter": "python",
   "pygments_lexer": "ipython3",
   "version": "3.10.4"
  }
 },
 "nbformat": 4,
 "nbformat_minor": 5
}
