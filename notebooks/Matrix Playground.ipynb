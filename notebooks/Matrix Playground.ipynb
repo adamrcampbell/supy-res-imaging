{
 "cells": [
  {
   "cell_type": "code",
   "execution_count": 1,
   "id": "51991948-7406-4f23-ac5a-97858510c28a",
   "metadata": {},
   "outputs": [],
   "source": [
    "%matplotlib inline\n",
    "\n",
    "import numpy as np\n",
    "import matplotlib.pyplot as plt\n",
    "\n",
    "from scipy.signal import convolve2d\n",
    "\n",
    "from skimage import data, io, color\n",
    "from skimage.transform import resize\n",
    "\n",
    "plt.rcParams['figure.figsize'] = [8, 8]\n",
    "\n",
    "def show_plot(image):\n",
    "    plt.imshow(image, cmap=plt.get_cmap(\"gray\"))\n",
    "    plt.xticks(np.arange(image.shape[0]))\n",
    "    plt.yticks(np.arange(image.shape[0]))\n",
    "    plt.colorbar()\n",
    "    plt.show()\n",
    "    \n",
    "def normalise(data):\n",
    "    return (data - np.min(data)) / (np.max(data) - np.min(data))\n",
    "\n",
    "def linear_to_row_col(index, row_width):\n",
    "    return (index // row_width, index % row_width)"
   ]
  },
  {
   "cell_type": "markdown",
   "id": "700fb6a0-1932-428e-a19c-5ca060a89079",
   "metadata": {},
   "source": [
    "##### Decimation matrix (row major) - assumes only taking 4 neighbours and that $L = M*2$"
   ]
  },
  {
   "cell_type": "code",
   "execution_count": 2,
   "id": "ebbe90ef-c36d-42a4-97d9-6cf48eb2ec52",
   "metadata": {},
   "outputs": [],
   "source": [
    "# l = 8\n",
    "# m = 4\n",
    "# d = l // m\n",
    "\n",
    "# d_matrix = np.zeros((m**2, l**2))\n",
    "\n",
    "# tile = np.repeat((1, 0, 1), (2, l - 2, 2)) # assuming taking 2 neighbours per dimension\n",
    "# t_len = tile.shape[0]\n",
    "\n",
    "# for p in np.arange(l//4):\n",
    "#     p_offset = p * l # 8\n",
    "#     for q in np.arange(m):\n",
    "#         d_matrix[q+ p_offset//2, q*d + p_offset*2 : q*d+t_len + p_offset*2] = tile # top-left quadrant\n",
    "#         r_offset = m**2 // 2\n",
    "#         c_offset = l**2 // 2\n",
    "#         d_matrix[q+r_offset + p_offset//2, q*d+c_offset + p_offset*2: q*d+t_len+c_offset + p_offset*2] = tile # bottom-right quadrant"
   ]
  },
  {
   "cell_type": "code",
   "execution_count": 3,
   "id": "847e9876-028a-4883-bb98-7b0560c2b5a8",
   "metadata": {},
   "outputs": [],
   "source": [
    "# x = np.arange(1, 65) # 1..64\n",
    "# print(x.reshape(8, 8))\n",
    "\n",
    "# y = np.matmul(d_matrix * 1/4, x)\n",
    "# print(y.reshape(4, 4))"
   ]
  },
  {
   "cell_type": "markdown",
   "id": "9970d022-cf44-4a74-a1f5-5829da2507da",
   "metadata": {},
   "source": [
    "##### Sharpening matrix (padded)"
   ]
  },
  {
   "cell_type": "code",
   "execution_count": 4,
   "id": "de8135b9-0a70-4508-a23f-7637ee572d4f",
   "metadata": {},
   "outputs": [],
   "source": [
    "# x_true = color.rgb2gray(data.astronaut())\n",
    "# x = resize(x_true, (100, 100), anti_aliasing=True)\n",
    "# show_plot(x)\n",
    "\n",
    "# laplace_deblur = np.array([[0, -1,  0], [-1,  4, -1], [0, -1,  0]], dtype=np.float32)\n",
    "# scikit_convolved = normalise(convolve2d(x, laplace_deblur, mode=\"same\"))\n",
    "# show_plot(scikit_convolved)\n",
    "\n",
    "# l = x.shape[0]\n",
    "# laplacian = np.array([[0, -1, 0], [-1, 4, -1], [0, -1, 0]], dtype=np.float32)\n",
    "# laplacian_dim = laplacian.shape[0]\n",
    "# padding = laplacian_dim - 1 # s_matrix padding for out of bounds convolution\n",
    "# laplacian = laplacian.flatten()\n",
    "# strided_laplacian = np.insert(laplacian, laplacian_dim, np.repeat(0, l-1))\n",
    "# strided_laplacian = np.insert(strided_laplacian, laplacian_dim*2+l-1, np.repeat(0, l-1))\n",
    "# s_matrix = np.zeros(((l+padding)**2, (l+padding)**2), dtype=np.float32)\n",
    "\n",
    "# for sr in np.arange(l):\n",
    "#     for r in np.arange(l):\n",
    "#         row_offset = (sr*l)+(l+padding+padding//2)+(padding*sr)\n",
    "#         col_offset = sr*(l+padding)+r\n",
    "#         s_matrix[row_offset+r, col_offset:col_offset+strided_laplacian.shape[0]] = strided_laplacian\n",
    "\n",
    "# show_plot(s_matrix)\n",
    "        \n",
    "# x_padded = np.pad(x, 1)\n",
    "# x_padded = x_padded.reshape(1, x_padded.shape[0]**2)\n",
    "# x_padded = np.matmul(s_matrix, x_padded.T)\n",
    "# x_padded = x_padded.reshape(102, 102)[1:101, 1:101]\n",
    "        \n",
    "# show_plot(normalise(x_padded))\n",
    "# show_plot(scikit_convolved - normalise(x_padded))"
   ]
  },
  {
   "cell_type": "markdown",
   "id": "638a4853-e2af-4d4c-8a04-da18eee98ff9",
   "metadata": {},
   "source": [
    "##### Sharpening matrix (no padding)"
   ]
  },
  {
   "cell_type": "code",
   "execution_count": 5,
   "id": "2781a4c5-f296-44fb-b8cc-124946b0652e",
   "metadata": {},
   "outputs": [],
   "source": [
    "# x_true = color.rgb2gray(data.astronaut())\n",
    "# x = resize(x_true, (50, 50), anti_aliasing=True)\n",
    "# show_plot(x)\n",
    "\n",
    "# l = x.shape[0]\n",
    "\n",
    "# s_matrix = np.zeros((l**2, l**2))\n",
    "# # laplace = np.array([[0, -1,  0], [-1,  4, -1], [0, -1,  0]], dtype=np.float32)\n",
    "# laplace = np.array([[1, 4, 7, 4, 1], [4, 16, 26, 16, 4], [7, 26, 41, 26, 7], [4, 16, 26, 16, 4], [1, 4, 7, 4, 1]], dtype=np.float32) * 1/273\n",
    "# kernel_dim = laplace.shape[0]\n",
    "# kernel_half_supp = (kernel_dim - 1) // 2\n",
    "\n",
    "# for s_row in np.arange(l**2):\n",
    "    \n",
    "#     row, col = linear_to_row_col(s_row, l)\n",
    "    \n",
    "#     for k_row in np.arange(-(kernel_half_supp), kernel_half_supp + 1):\n",
    "#         # map \"kernel row\" to rows in s_matrix\n",
    "#         mapped_row = row + k_row\n",
    "#         # ignore any out of bounds rows\n",
    "#         if mapped_row >= 0 and mapped_row < l:\n",
    "#             linear_col = col - kernel_half_supp\n",
    "#             # truncate negative columns\n",
    "#             mapped_col_start = max(linear_col, 0)\n",
    "#             # truncate columns which exceed the l dimension\n",
    "#             mapped_col_end = min(linear_col + kernel_dim, l)\n",
    "#             # left trimming for kernels when overlapping out of bounds region in s_matrix (col < 0)\n",
    "#             left = np.absolute(col - kernel_half_supp) if linear_col < 0 else 0\n",
    "#             # right trimming for kernels when overlapping out of bounds region in s_matrix (col >= l)\n",
    "#             right = linear_col + kernel_dim - l if linear_col + kernel_dim >= l else 0 \n",
    "#             # copy over kernel row for current k_row, possibly including trimming for out of bounds coordinates\n",
    "#             s_matrix[s_row][mapped_row * l + mapped_col_start : mapped_row * l + mapped_col_end] = laplace[k_row+kernel_half_supp][left: left + kernel_dim - right]\n",
    "\n",
    "# s_matrix = np.zeros((l**2, l**2))\n",
    "# show_plot(s_matrix)\n",
    "\n",
    "# laplace_deblur = np.array([[0, -1,  0], [-1,  4, -1], [0, -1,  0]], dtype=np.float32)\n",
    "# scikit_convolved = normalise(convolve2d(x, laplace, mode=\"same\"))\n",
    "# show_plot(scikit_convolved)\n",
    "\n",
    "# x = x.reshape(1, x.shape[0]**2)\n",
    "# x = np.matmul(s_matrix, x.T)\n",
    "# x = x.reshape(50, 50)\n",
    "        \n",
    "# show_plot(normalise(x))\n",
    "# show_plot(scikit_convolved - normalise(x))"
   ]
  },
  {
   "cell_type": "markdown",
   "id": "ccc190eb-c6f2-437e-abe7-a25c8bac9012",
   "metadata": {},
   "source": [
    "#### $L_{1}$ and $L_{\\infty}$ norms of a matrix"
   ]
  },
  {
   "cell_type": "code",
   "execution_count": 6,
   "id": "92e55d4c-dc38-4f79-aaa2-7f93d3af1943",
   "metadata": {},
   "outputs": [
    {
     "name": "stdout",
     "output_type": "stream",
     "text": [
      "[[1 2 3]\n",
      " [4 5 6]\n",
      " [7 8 9]]\n",
      "18\n",
      "24\n"
     ]
    }
   ],
   "source": [
    "x = np.arange(1, 10).reshape(3, 3)\n",
    "print(x)\n",
    "\n",
    "# Max absolute column sum of matrix\n",
    "l_one = np.max(np.sum(np.absolute(x), axis=0))\n",
    "print(l_one)\n",
    "\n",
    "# Max absolute row sum of matrix\n",
    "l_inf = np.max(np.sum(np.absolute(x), axis=1))\n",
    "print(l_inf)"
   ]
  },
  {
   "cell_type": "code",
   "execution_count": null,
   "id": "7b5ea7b0-3be5-4d3b-bc85-00a79c7afa46",
   "metadata": {},
   "outputs": [],
   "source": []
  }
 ],
 "metadata": {
  "kernelspec": {
   "display_name": "Python 3 (ipykernel)",
   "language": "python",
   "name": "python3"
  },
  "language_info": {
   "codemirror_mode": {
    "name": "ipython",
    "version": 3
   },
   "file_extension": ".py",
   "mimetype": "text/x-python",
   "name": "python",
   "nbconvert_exporter": "python",
   "pygments_lexer": "ipython3",
   "version": "3.10.4"
  }
 },
 "nbformat": 4,
 "nbformat_minor": 5
}
