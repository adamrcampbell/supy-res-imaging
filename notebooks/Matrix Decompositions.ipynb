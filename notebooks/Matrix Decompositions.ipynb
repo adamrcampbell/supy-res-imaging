{
 "cells": [
  {
   "cell_type": "code",
   "execution_count": null,
   "id": "021631ab-5d13-44ef-817f-61d989dffdf1",
   "metadata": {},
   "outputs": [],
   "source": [
    "%matplotlib inline\n",
    "\n",
    "import numpy as np\n",
    "from scipy.linalg import lu_factor, lu_solve, qr\n",
    "\n",
    "import matplotlib.pyplot as plt"
   ]
  },
  {
   "cell_type": "code",
   "execution_count": null,
   "id": "7f476a2e-fbd9-4562-81dd-0726c203b2b4",
   "metadata": {},
   "outputs": [],
   "source": [
    "def show_image(image):\n",
    "    plt.imshow(image, cmap=plt.get_cmap(\"gray\"))\n",
    "    plt.colorbar()\n",
    "    plt.show()"
   ]
  },
  {
   "cell_type": "markdown",
   "id": "3c9e089a-3eb8-4063-9e7f-38d1d2cc90f3",
   "metadata": {},
   "source": [
    "### LU Decomposition"
   ]
  },
  {
   "cell_type": "code",
   "execution_count": null,
   "id": "925b159e-68ff-47c8-b214-15b34ac6d209",
   "metadata": {},
   "outputs": [],
   "source": [
    "# define a square matrix\n",
    "A = np.array([[6, 18, 3], [2, 12, 1], [4, 15, 3]])\n",
    "print(A)\n",
    "\n",
    "# LU decomposition\n",
    "LU, P = lu_factor(A)\n",
    "print(LU)\n",
    "print(P)\n",
    "\n",
    "# reconstruct\n",
    "A_restored = P.dot(LU)\n",
    "print(A_restored)\n",
    "\n",
    "B = np.array([3, 19, 0])\n",
    "\n",
    "X = lu_solve((LU, P), B)\n",
    "print(X)\n",
    "\n",
    "# Validation\n",
    "np.allclose(np.dot(A, X), B)"
   ]
  },
  {
   "cell_type": "code",
   "execution_count": null,
   "id": "700cf71e-1759-471a-9227-470d7cb01972",
   "metadata": {},
   "outputs": [],
   "source": [
    "# define a square matrix\n",
    "A = np.array([[6, 18, 3], [2, 12, 1], [4, 15, 3]])\n",
    "print(A)\n",
    "\n",
    "Q, R = qr(A)\n",
    "print(Q)\n",
    "print(R)"
   ]
  },
  {
   "cell_type": "code",
   "execution_count": null,
   "id": "fcf357c9-034e-4cab-be6b-9aedbe734d13",
   "metadata": {},
   "outputs": [],
   "source": []
  }
 ],
 "metadata": {
  "kernelspec": {
   "display_name": "Python 3 (ipykernel)",
   "language": "python",
   "name": "python3"
  },
  "language_info": {
   "codemirror_mode": {
    "name": "ipython",
    "version": 3
   },
   "file_extension": ".py",
   "mimetype": "text/x-python",
   "name": "python",
   "nbconvert_exporter": "python",
   "pygments_lexer": "ipython3",
   "version": "3.10.5"
  }
 },
 "nbformat": 4,
 "nbformat_minor": 5
}
