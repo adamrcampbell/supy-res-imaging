{
 "cells": [
  {
   "cell_type": "code",
   "execution_count": 1,
   "id": "ae1683f5-1754-4714-b387-4f9d08b67728",
   "metadata": {},
   "outputs": [],
   "source": [
    "%matplotlib inline\n",
    "\n",
    "import numpy as np\n",
    "# from numba.pycc import CC\n",
    "from numba import njit, prange\n",
    "import matplotlib.pyplot as plt\n",
    "from scipy.sparse import coo_matrix, csr_matrix, bsr_matrix\n",
    "\n",
    "def show_sparse_image(image, title):\n",
    "    plt.spy(image)\n",
    "    plt.title(title)\n",
    "    plt.show()\n",
    "\n",
    "# cc = CC('my_numba_test')"
   ]
  },
  {
   "cell_type": "code",
   "execution_count": 2,
   "id": "5385544c-1ec0-4ad7-8196-1d86cb33a5d7",
   "metadata": {},
   "outputs": [],
   "source": [
    "import random\n",
    "# Test using numba parallel sum over rows\n",
    "# @cc.export('do_numba_sum', 'f4(f4[:,:])')\n",
    "# @njit( parallel = True )\n",
    "# def do_numba_sum(vals):\n",
    "#     n = vals.shape[0]\n",
    "#     partials = np.zeros(n)\n",
    "#     for p in prange(n):\n",
    "#         partials[p] = np.sum(vals[p])\n",
    "#     return np.sum(partials)\n",
    "\n",
    "@njit( parallel = True)\n",
    "def populate_buffers(l, kernel, workers):\n",
    "    \n",
    "    # Kernel info\n",
    "    k = kernel.shape[0]\n",
    "    k_h = (k - 1) // 2\n",
    "    kernel = kernel.flatten()\n",
    "    \n",
    "    # How many elements per array\n",
    "    m = l**2 * k**2\n",
    "    print(f\"m: {m}\")\n",
    "    # Buffer allocation\n",
    "    row = np.zeros(m, dtype=np.intc)\n",
    "    col = np.zeros(m, dtype=np.intc)\n",
    "    val = np.zeros(m, dtype=np.float32)\n",
    "    \n",
    "    # Work distribution\n",
    "    work_size = m // workers\n",
    "    print(f\"Work size: {work_size}\")\n",
    "\n",
    "    # Populating buffers using strided workers\n",
    "    for t in prange(workers):\n",
    "        row[t*work_size : (t+1)*work_size] = random.randint(0, l**2)\n",
    "        col[t*work_size : (t+1)*work_size] = random.randint(0, l**2)\n",
    "        val[t*work_size : (t+1)*work_size] = random.randint(0, np.finfo(np.float32).max)\n",
    "    \n",
    "    return row, col, val"
   ]
  },
  {
   "cell_type": "code",
   "execution_count": null,
   "id": "c31b9fbd-56da-4473-9881-937ee5c9bf35",
   "metadata": {},
   "outputs": [
    {
     "name": "stdout",
     "output_type": "stream",
     "text": [
      "m: 65610000\n",
      "Work size: 6561000\n"
     ]
    }
   ],
   "source": [
    "%%time\n",
    "\n",
    "def gkern(l=5, sig=1.):\n",
    "    ax = np.linspace(-(l - 1) / 2., (l - 1) / 2., l)\n",
    "    gauss = np.exp(-0.5 * np.square(ax) / np.square(sig))\n",
    "    kernel = np.outer(gauss, gauss)\n",
    "    return kernel / np.sum(kernel)\n",
    "\n",
    "l = 100\n",
    "k = 9\n",
    "gauss = gkern(k).flatten()\n",
    "\n",
    "workers = 10\n",
    "row, col, val = populate_buffers(l, gauss, workers)\n",
    "print((row.size * row.itemsize) / 10**6)\n",
    "print((col.size * col.itemsize) / 10**6)\n",
    "print((val.size * val.itemsize) / 10**6)\n",
    "matrix =  coo_matrix((val, (row, col)), shape=(l**2, l**2))\n",
    "print((matrix.col.nbytes + matrix.row.nbytes + matrix.data.nbytes) / 10**6)\n",
    "matrix = matrix.tocsr()\n",
    "print((matrix.data.nbytes + matrix.indptr.nbytes + matrix.indices.nbytes) / 10**6)\n",
    "show_sparse_image(matrix, \"Bullsit\")\n",
    "print(matrix)"
   ]
  },
  {
   "cell_type": "code",
   "execution_count": 6,
   "id": "3724036f-7f53-4cb3-a1b3-15438a09958c",
   "metadata": {},
   "outputs": [
    {
     "name": "stdout",
     "output_type": "stream",
     "text": [
      "0.0009\n",
      "0.0009\n",
      "0.0009\n",
      "0.001904\n",
      "Matrix indices: [ 0  1  2  3  4  5  6  7  8  1  2  3  4  5  6  7  8  9  2  3  4  5  6  7\n",
      "  8  9 10  3  4  5  6  7  8  9 10 11  4  5  6  7  8  9 10 11 12  5  6  7\n",
      "  8  9 10 11 12 13  6  7  8  9 10 11 12 13 14  7  8  9 10 11 12 13 14 15\n",
      "  8  9 10 11 12 13 14 15 16  9 10 11 12 13 14 15 16 17 10 11 12 13 14 15\n",
      " 16 17 18 11 12 13 14 15 16 17 18 19 12 13 14 15 16 17 18 19 20 13 14 15\n",
      " 16 17 18 19 20 21 14 15 16 17 18 19 20 21 22 15 16 17 18 19 20 21 22 23\n",
      " 16 17 18 19 20 21 22 23 24 17 18 19 20 21 22 23 24 25 18 19 20 21 22 23\n",
      " 24 25 26 19 20 21 22 23 24 25 26 27 20 21 22 23 24 25 26 27 28 21 22 23\n",
      " 24 25 26 27 28 29 22 23 24 25 26 27 28 29 30 23 24 25 26 27 28 29 30 31\n",
      " 24 25 26 27 28 29 30 31 32]\n",
      "Matrix indptr: [  0   9  18  27  36  45  54  63  72  81  90  99 108 117 126 135 144 153\n",
      " 162 171 180 189 198 207 216 225]\n"
     ]
    }
   ],
   "source": [
    "l = 5\n",
    "k = 3\n",
    "gauss = gkern(k).flatten()\n",
    "\n",
    "rows = np.zeros(l**2 * k**2, dtype=np.float32)\n",
    "cols = np.zeros(l**2 * k**2, dtype=np.float32)\n",
    "data = np.zeros(l**2 * k**2, dtype=np.float32)\n",
    "\n",
    "for r in range(l**2): # for each\n",
    "    s = r*k**2\n",
    "    e = s + k**2\n",
    "    # print(f\"Row {r}: start/end = {s}/{e}\")\n",
    "    rows[s:e] = r\n",
    "    cols[s:e] = np.arange(k**2) + r\n",
    "    data[s:e] = gauss\n",
    "\n",
    "# print(rows)\n",
    "# print(cols)\n",
    "# print(data)\n",
    "print((rows.size * rows.itemsize) / 10**6)\n",
    "print((cols.size * cols.itemsize) / 10**6)\n",
    "print((data.size * data.itemsize) / 10**6)\n",
    "    \n",
    "matrix = bsr_matrix((data, (rows, cols)), shape=(l**2, l**2 + k**2 - 1))\n",
    "print((matrix.data.nbytes + matrix.indptr.nbytes + matrix.indices.nbytes) / 10**6)\n",
    "# show_sparse_image(matrix, \"Sparse Matrix\")\n",
    "\n",
    "# print(f\"Matrix data: {matrix.data}\")\n",
    "print(f\"Matrix indices: {matrix.indices}\")\n",
    "print(f\"Matrix indptr: {matrix.indptr}\")"
   ]
  },
  {
   "cell_type": "code",
   "execution_count": null,
   "id": "d6dc435d-c414-4da0-8762-8ee1db71ec4a",
   "metadata": {},
   "outputs": [],
   "source": []
  }
 ],
 "metadata": {
  "kernelspec": {
   "display_name": "Python 3 (ipykernel)",
   "language": "python",
   "name": "python3"
  },
  "language_info": {
   "codemirror_mode": {
    "name": "ipython",
    "version": 3
   },
   "file_extension": ".py",
   "mimetype": "text/x-python",
   "name": "python",
   "nbconvert_exporter": "python",
   "pygments_lexer": "ipython3",
   "version": "3.10.5"
  }
 },
 "nbformat": 4,
 "nbformat_minor": 5
}
