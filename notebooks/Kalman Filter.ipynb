{
 "cells": [
  {
   "cell_type": "markdown",
   "id": "a7ff3102-ac1b-445b-9920-8e1797d4dcfb",
   "metadata": {},
   "source": [
    "### Implementation of Kalman Filter Approximation Techniques\n",
    "As presented in the 1999 paper _\"Super-resolution reconstruction of image sequences\"_ by Michael Elad and Arie Feuer ([IEEE](https://ieeexplore.ieee.org/document/790425))"
   ]
  },
  {
   "cell_type": "code",
   "execution_count": null,
   "id": "9d51e223-be6b-4308-8c4f-90beade843f4",
   "metadata": {},
   "outputs": [],
   "source": [
    "%matplotlib inline\n",
    "\n",
    "import numpy as np\n",
    "from numpy.random import default_rng\n",
    "\n",
    "from skimage import data, color\n",
    "from skimage.transform import rescale\n",
    "from skimage.util import random_noise\n",
    "from skimage.filters import laplace\n",
    "\n",
    "from scipy.signal import convolve2d\n",
    "\n",
    "import matplotlib.pyplot as plt\n",
    "\n",
    "plt.rcParams['figure.figsize'] = [16, 9]"
   ]
  },
  {
   "cell_type": "code",
   "execution_count": null,
   "id": "82cc5746-db26-4269-9faa-370012e85045",
   "metadata": {},
   "outputs": [],
   "source": [
    "def show_image(image):\n",
    "    plt.imshow(image, cmap=plt.get_cmap(\"gray\"))\n",
    "    plt.colorbar()\n",
    "    plt.show()"
   ]
  },
  {
   "cell_type": "code",
   "execution_count": null,
   "id": "4587ea59-6544-4c5c-9908-95d5fb975ecb",
   "metadata": {},
   "outputs": [],
   "source": [
    "# Algorithm params\n",
    "k = 1 # number of image samples for video sequence\n",
    "x_start_coord = 100 # start x position for frame k=0 \n",
    "y_start_coord = 100 # start y position for frame k=0\n",
    "x_shift_coord = 5 # x axis pixel shift distance between frames\n",
    "y_shift_coord = 0 # y axis pixel shift distance between frames\n",
    "hr_image_dim = 250 # assumed square\n",
    "lr_image_dim = hr_image_dim // 2\n",
    "img_dim_ratio = lr_image_dim / hr_image_dim"
   ]
  },
  {
   "cell_type": "code",
   "execution_count": null,
   "id": "b08ed103-0224-4f52-9dbb-e239dfa1b6b3",
   "metadata": {},
   "outputs": [],
   "source": [
    "# Original source image - scene\n",
    "coffee = color.rgb2gray(data.coffee())\n",
    "show_image(coffee)\n",
    "\n",
    "# Synthetic video of 10 frames, based on cropped global shift of coffee image \n",
    "x_true = np.ndarray((k, hr_image_dim, hr_image_dim))\n",
    "\n",
    "# generate frames of video stream\n",
    "for frame in np.arange(k):\n",
    "    x_clip_pos = x_start_coord + frame * x_shift_coord\n",
    "    y_clip_pos = y_start_coord + frame * y_shift_coord\n",
    "    x_true[frame] = coffee[y_clip_pos : y_clip_pos+hr_image_dim, x_clip_pos : x_clip_pos+hr_image_dim]\n",
    "    show_image(x_true[frame])"
   ]
  },
  {
   "cell_type": "code",
   "execution_count": null,
   "id": "6fa6c048-91e2-425a-8821-a6bb829da9f2",
   "metadata": {},
   "outputs": [],
   "source": [
    "# filled to simulate a calculated 3x3 box blur\n",
    "box_blur = np.full((3, 3), 1/9)\n",
    "\n",
    "y_true = np.ndarray((k, lr_image_dim, lr_image_dim))\n",
    "\n",
    "# Normal distribution noise parameters\n",
    "mu = 0.0\n",
    "sigma = 0.05\n",
    "rng = default_rng() # needed for normal sampling\n",
    "\n",
    "# generate low-resolution frames based on x_true frames\n",
    "for frame in np.arange(k):\n",
    "    intermediate = convolve2d(x_true[frame], box_blur, mode=\"same\") # apply box blur\n",
    "    intermediate = rescale(intermediate, img_dim_ratio, anti_aliasing=True) # decimate\n",
    "    noise = mu + sigma * rng.normal(size=(lr_image_dim, lr_image_dim))\n",
    "    y_true[frame] = intermediate + noise # apply additive noise\n",
    "    show_image(y_true[frame])"
   ]
  },
  {
   "cell_type": "code",
   "execution_count": null,
   "id": "48cf194f-4c4e-4ed4-a272-f7fcf9d1adfe",
   "metadata": {},
   "outputs": [],
   "source": []
  }
 ],
 "metadata": {
  "kernelspec": {
   "display_name": "Python 3 (ipykernel)",
   "language": "python",
   "name": "python3"
  },
  "language_info": {
   "codemirror_mode": {
    "name": "ipython",
    "version": 3
   },
   "file_extension": ".py",
   "mimetype": "text/x-python",
   "name": "python",
   "nbconvert_exporter": "python",
   "pygments_lexer": "ipython3",
   "version": "3.10.2"
  }
 },
 "nbformat": 4,
 "nbformat_minor": 5
}
