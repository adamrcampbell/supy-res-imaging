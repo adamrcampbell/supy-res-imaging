{
 "cells": [
  {
   "cell_type": "code",
   "execution_count": null,
   "id": "4e966d78-567b-454a-bcaf-0dd1d190dba1",
   "metadata": {},
   "outputs": [],
   "source": [
    "%matplotlib inline\n",
    "\n",
    "import numpy as np\n",
    "import cupy as cp\n",
    "import matplotlib.pyplot as plt\n",
    "\n",
    "plt.rcParams['figure.figsize'] = [10, 10]\n",
    "\n",
    "def show_image(image, title, flip_x_axis=False):\n",
    "    if flip_x_axis:\n",
    "        image = np.fliplr(image)\n",
    "    plt.imshow(image, cmap=plt.get_cmap(\"gray\"))\n",
    "    plt.title(title)\n",
    "    plt.colorbar()\n",
    "    plt.show()"
   ]
  },
  {
   "cell_type": "code",
   "execution_count": null,
   "id": "591a2b3c-1370-4d6b-b32f-b1d4966c2cf8",
   "metadata": {},
   "outputs": [],
   "source": [
    "%%time\n",
    "x_cpu = np.arange(100_000_000)\n",
    "# print(x_cpu)\n",
    "l2_cpu = np.linalg.norm(x_cpu)\n",
    "print(l2_cpu)"
   ]
  },
  {
   "cell_type": "code",
   "execution_count": null,
   "id": "af1ea83b-a48f-4010-bc25-74d6cdf94149",
   "metadata": {},
   "outputs": [],
   "source": [
    "%%time\n",
    "x_gpu = cp.arange(100_000_000)\n",
    "# print(x_gpu)\n",
    "l2_gpu = cp.linalg.norm(x_gpu)\n",
    "print(l2_gpu)"
   ]
  },
  {
   "cell_type": "code",
   "execution_count": 35,
   "id": "105a4e12-44f3-4545-98ad-ef9cc105b419",
   "metadata": {},
   "outputs": [],
   "source": [
    "mempool = cp.get_default_memory_pool()\n",
    "pinned_mempool = cp.get_default_pinned_memory_pool()\n",
    "\n",
    "mempool.free_all_blocks()\n",
    "pinned_mempool.free_all_blocks()"
   ]
  },
  {
   "cell_type": "code",
   "execution_count": null,
   "id": "3156dd30-5392-46a4-a141-0ca7b16cf8fd",
   "metadata": {},
   "outputs": [],
   "source": []
  }
 ],
 "metadata": {
  "kernelspec": {
   "display_name": "Python 3 (ipykernel)",
   "language": "python",
   "name": "python3"
  },
  "language_info": {
   "codemirror_mode": {
    "name": "ipython",
    "version": 3
   },
   "file_extension": ".py",
   "mimetype": "text/x-python",
   "name": "python",
   "nbconvert_exporter": "python",
   "pygments_lexer": "ipython3",
   "version": "3.10.4"
  }
 },
 "nbformat": 4,
 "nbformat_minor": 5
}
