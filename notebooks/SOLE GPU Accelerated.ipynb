{
 "cells": [
  {
   "cell_type": "code",
   "execution_count": null,
   "id": "58702d96-425b-4e12-8018-899e631892b5",
   "metadata": {},
   "outputs": [],
   "source": [
    "%matplotlib inline\n",
    "\n",
    "import numpy as np\n",
    "import cupy as cp\n",
    "import matplotlib.pyplot as plt\n",
    "from scipy.signal import convolve2d\n",
    "from scipy.stats import norm\n",
    "from skimage import data, io, color\n",
    "from skimage.transform import resize\n",
    "\n",
    "plt.rcParams['figure.figsize'] = [10, 10]\n",
    "\n",
    "# Prints memory footprint of a numpy structure\n",
    "def print_mem_info(numpy_array, label):\n",
    "    total_bytes = numpy_array.size * numpy_array.itemsize\n",
    "    if total_bytes < 10**3: # less than kilobyte\n",
    "        print(f\"Size of {label}: {total_bytes} bytes\")\n",
    "    elif total_bytes < 10**6: # less than megabyte\n",
    "        print(f\"Size of {label}: {total_bytes / 10**3} kilobytes (raw bytes: {total_bytes})\")\n",
    "    elif total_bytes < 10**9: # less than gigabyte\n",
    "        print(f\"Size of {label}: {total_bytes / 10**6} megabytes (raw bytes: {total_bytes})\")\n",
    "    else:\n",
    "        print(f\"Size of {label}: {total_bytes / 10**9} gigabytes (raw bytes: {total_bytes})\")\n",
    "\n",
    "def show_image(image, title, flip_x_axis=False):\n",
    "    if flip_x_axis:\n",
    "        image = np.fliplr(image)\n",
    "    plt.imshow(image, cmap=plt.get_cmap(\"gray\"))\n",
    "    plt.title(title)\n",
    "    plt.colorbar()\n",
    "    plt.show()\n",
    "    \n",
    "def normalise(data):\n",
    "    return (data - np.min(data)) / (np.max(data) - np.min(data))\n",
    "\n",
    "def rrmse(observed, ideal, decimal=6):\n",
    "    return \"{:.{}f}\".format(np.sqrt((1 / observed.shape[0]**2) * np.sum((observed-ideal)**2) / np.sum(ideal**2)) * 100.0, decimal)\n",
    "\n",
    "def laplacian_of_gaussian(x, y, sigma):\n",
    "    p = (x**2.0 + y**2.0) / 2.0 * sigma**2.0\n",
    "    return -(1.0 / (np.pi * sigma**4.0)) * (1.0 - p) * np.exp(-p)\n",
    "\n",
    "def decimation_matrix(l, m):\n",
    "    d_matrix = np.zeros((m**2, l**2), dtype=np.float32)\n",
    "\n",
    "    tile = np.repeat((1, 0, 1), (2, l - 2, 2)) # assuming taking 2 neighbours per dimension\n",
    "    t_len = tile.shape[0]\n",
    "    d = l // m\n",
    "    r_offset = m**2 // 2\n",
    "    c_offset = l**2 // 2\n",
    "\n",
    "    for p in np.arange(l//4): # divide by 4 as 4 neighbours total\n",
    "        p_offset = p * l\n",
    "        for q in np.arange(m):\n",
    "            d_matrix[q+ p_offset//2, q*d + p_offset*2 : q*d+t_len + p_offset*2] = tile # top-left quadrant\n",
    "            d_matrix[q+r_offset + p_offset//2, q*d+c_offset + p_offset*2: q*d+t_len+c_offset + p_offset*2] = tile # bottom-right quadrant\n",
    "    return d_matrix\n",
    "\n",
    "# produces convolution matrix of size l**2 by l**2, where each row is populated by the convolution kernel values at the appropriate neighbours\n",
    "# note: assumes kernel is a two-dimensonal numpy array of some size n by n\n",
    "def convolution_matrix(l, kernel):\n",
    "    \n",
    "    conv = np.zeros((l**2, l**2), dtype=np.float32)\n",
    "    full_supp = kernel.shape[0] # assumed square\n",
    "    half_supp = (full_supp - 1) // 2\n",
    "\n",
    "    for conv_row in np.arange(l**2):\n",
    "\n",
    "        row, col = (conv_row // l, conv_row % l)\n",
    "\n",
    "        for k_row in np.arange(-(half_supp), half_supp + 1):\n",
    "            # map \"kernel row\" to rows in conv\n",
    "            mapped_row = row + k_row\n",
    "            # ignore any out of bounds rows\n",
    "            if mapped_row >= 0 and mapped_row < l:\n",
    "                linear_col = col - half_supp\n",
    "                # truncate negative columns\n",
    "                mapped_col_start = max(linear_col, 0)\n",
    "                # truncate columns which exceed the l dimension\n",
    "                mapped_col_end = min(linear_col + full_supp, l)\n",
    "                # left trimming for kernels when overlapping out of bounds region in conv (col < 0)\n",
    "                left = np.absolute(col - half_supp) if linear_col < 0 else 0\n",
    "                # right trimming for kernels when overlapping out of bounds region in conv (col >= l)\n",
    "                right = linear_col + full_supp - l if linear_col + full_supp >= l else 0 \n",
    "                # copy over kernel row for current k_row, possibly including trimming for out of bounds coordinates\n",
    "                conv[conv_row][mapped_row * l + mapped_col_start : mapped_row * l + mapped_col_end] = kernel[k_row + half_supp][left: left + full_supp - right]\n",
    "    return conv"
   ]
  },
  {
   "cell_type": "markdown",
   "id": "86b98346-6318-477d-8555-44909edbde9c",
   "metadata": {},
   "source": [
    "#### Configuration and data set up..."
   ]
  },
  {
   "cell_type": "code",
   "execution_count": null,
   "id": "bcb2b0a3-24b6-457f-bdee-1e5e51f9961e",
   "metadata": {},
   "outputs": [],
   "source": [
    "%%time\n",
    "\n",
    "timesteps = 30 # total timesteps\n",
    "timesteps_per_y = 5\n",
    "l = 100\n",
    "m = 50\n",
    "n = timesteps // timesteps_per_y\n",
    "w = np.ones(n)\n",
    "w_gpu = cp.asarray(w)\n",
    "\n",
    "β = 1.631635943\n",
    "\n",
    "# all time steps direct image\n",
    "filename = \"../data/direct_image_ts_0_29_800x800.bin\"\n",
    "x_true = np.fromfile(filename, dtype=np.float32)\n",
    "x_true = resize(x_true.reshape(800, 800), (l, l), anti_aliasing=False, order=1)\n",
    "x_true = normalise(x_true)\n",
    "\n",
    "filename = \"../data/direct_psf_ts_0_29_800x800.bin\"\n",
    "x_psf = np.fromfile(filename, dtype=np.float32).reshape(800, 800)[1:, 1:]\n",
    "x_psf = resize(x_psf, (l-1, l-1), anti_aliasing=False, order=1)\n",
    "x_psf = np.pad(x_psf, ((1, 0), (1, 0))) # pad with new 0th row/col to ensure trimming from centre\n",
    "\n",
    "trim_half_len = 2\n",
    "psf_min = l//2 - (trim_half_len - 1)\n",
    "psf_max = l//2 + trim_half_len\n",
    "# x_psf = x_psf.reshape(l, l)[psf_min:psf_max, psf_min:psf_max]\n",
    "x_psf_trimmed = x_psf.copy()[psf_min:psf_max, psf_min:psf_max]\n",
    "x_psf_trimmed /= np.sum(x_psf_trimmed)\n",
    "\n",
    "# Storing all low-res images as flattened rows\n",
    "y = np.zeros((n, m**2))\n",
    "\n",
    "# batched time steps direct images\n",
    "for i in np.arange(n):\n",
    "    filename = f\"../data/direct_image_ts_{i * timesteps_per_y}_{i * timesteps_per_y + timesteps_per_y - 1}.bin\"\n",
    "    y[i] = np.fromfile(filename, dtype=np.float32)\n",
    "    y[i] = normalise(y[i])\n",
    "    \n",
    "y_gpu = cp.asarray(y)\n",
    "\n",
    "# Decimation matrix\n",
    "d = decimation_matrix(l, m) # takes the sum of 4 l neighbours to form 1 m pixel\n",
    "d_gpu = cp.asarray(d)\n",
    "\n",
    "# Blur matrix (psf)\n",
    "h = convolution_matrix(l, x_psf_trimmed)\n",
    "h_gpu = cp.asarray(h)\n",
    "\n",
    "# Sharpening matrix (laplacian)\n",
    "laplacian = np.array([[0, -1,  0], [-1,  4, -1], [0, -1,  0]], dtype=np.float32)\n",
    "s = convolution_matrix(l, laplacian)\n",
    "s_gpu = cp.asarray(s)"
   ]
  },
  {
   "cell_type": "markdown",
   "id": "17f5877a-f42d-4bbe-9815-09fba1baae3f",
   "metadata": {},
   "source": [
    "#### Setting up the right hand side of the equation $AX = B$, where $B = \\sum\\limits_{i=1}^N (w_iH^TD^TY_i)$"
   ]
  },
  {
   "cell_type": "code",
   "execution_count": null,
   "id": "e3eb9802-b912-440c-a441-2c212ebd9b04",
   "metadata": {},
   "outputs": [],
   "source": [
    "b_gpu = cp.zeros(l**2, dtype=np.float32)\n",
    "\n",
    "for i in np.arange(n):\n",
    "    b_gpu += w_gpu[i] * h_gpu.T @ d_gpu.T @ y_gpu[i]"
   ]
  },
  {
   "cell_type": "markdown",
   "id": "42023895-557c-4c97-a10e-bf1a2b43d09a",
   "metadata": {},
   "source": [
    "#### Setting up the right hand side of the equation $AX=B$, where $A = \\begin{bmatrix}\n",
    "  \\beta S^T S + (\\sum\\limits_{i=1}^N w_i) H^TD^TDH\n",
    "\\end{bmatrix}$"
   ]
  },
  {
   "cell_type": "code",
   "execution_count": null,
   "id": "1ef97937-0086-4891-9c9c-3b3853991dcc",
   "metadata": {},
   "outputs": [],
   "source": [
    "a_gpu = (β * s_gpu.T @ s_gpu) + (h_gpu.T @ d_gpu.T @ d_gpu @ h_gpu * cp.sum(w_gpu))"
   ]
  },
  {
   "cell_type": "markdown",
   "id": "a9302a9e-2321-4f5c-bebb-e381695163b0",
   "metadata": {},
   "source": [
    "#### Now solve for $X$..."
   ]
  },
  {
   "cell_type": "code",
   "execution_count": null,
   "id": "1855c1fa-46d8-467a-9405-a59a7fb648b6",
   "metadata": {},
   "outputs": [],
   "source": [
    "x = cp.asnumpy(cp.linalg.solve(a_gpu, b_gpu)).reshape(100, 100)\n",
    "\n",
    "# Dealloc cuda mem\n",
    "mempool = cp.get_default_memory_pool()\n",
    "mempool.free_all_blocks()"
   ]
  },
  {
   "cell_type": "code",
   "execution_count": null,
   "id": "f6764572-2498-4772-8051-feb390d94eb3",
   "metadata": {},
   "outputs": [],
   "source": [
    "print(f\"RRMSE: Solved X and True X -> {rrmse(normalise(x), normalise(x_true))}\")\n",
    "show_image(normalise(x), \"Solved X\", flip_x_axis=True)\n",
    "show_image(normalise(x_true), \"True X\", flip_x_axis=True)"
   ]
  },
  {
   "cell_type": "code",
   "execution_count": null,
   "id": "8d332acb-b8dd-46c2-9f40-08df8793a94e",
   "metadata": {},
   "outputs": [],
   "source": []
  }
 ],
 "metadata": {
  "kernelspec": {
   "display_name": "Python 3 (ipykernel)",
   "language": "python",
   "name": "python3"
  },
  "language_info": {
   "codemirror_mode": {
    "name": "ipython",
    "version": 3
   },
   "file_extension": ".py",
   "mimetype": "text/x-python",
   "name": "python",
   "nbconvert_exporter": "python",
   "pygments_lexer": "ipython3",
   "version": "3.10.4"
  }
 },
 "nbformat": 4,
 "nbformat_minor": 5
}
