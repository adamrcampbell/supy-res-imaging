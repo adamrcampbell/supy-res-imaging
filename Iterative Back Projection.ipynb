{
 "cells": [
  {
   "cell_type": "code",
   "execution_count": null,
   "id": "176cc44a-6661-4798-86f3-588405e46ae3",
   "metadata": {},
   "outputs": [],
   "source": [
    "%matplotlib widget\n",
    "\n",
    "import numpy as np\n",
    "from scipy.ndimage import zoom\n",
    "from scipy.signal import convolve2d\n",
    "from skimage.filters import gaussian\n",
    "from skimage.transform import rescale\n",
    "from skimage import data, io, color\n",
    "from skimage.util import random_noise, img_as_float32\n",
    "from skimage.exposure import rescale_intensity\n",
    "from sklearn.metrics import mean_squared_error\n",
    "import matplotlib.pyplot as plt\n",
    "\n",
    "import sys"
   ]
  },
  {
   "cell_type": "code",
   "execution_count": null,
   "id": "34cf84d8-8774-4532-92a8-cf9718fb5a17",
   "metadata": {},
   "outputs": [],
   "source": [
    "def display_image_stack(*images):\n",
    "    fig, axes = plt.subplots(nrows=1, ncols=len(images))\n",
    "\n",
    "    if len(images) == 1:\n",
    "        im = axes.imshow(images[0], cmap=plt.cm.gray)\n",
    "    else:\n",
    "        for i in range(len(images)):\n",
    "            im = axes[i].imshow(images[i], cmap=plt.cm.gray)\n",
    "            axes[i].set_title(\"sum %.3f, min %.3f, max %.3f\"  % (np.sum(images[i]), np.min(images[i]), np.max(images[i])))\n",
    "    plt.show()\n",
    "\n",
    "def display_image_stack_block(count, *images):\n",
    "    fig, axes = plt.subplots(nrows=1, ncols=count)\n",
    "    print(images[0].shape)\n",
    "\n",
    "    for i in range(count):\n",
    "        im = axes[i].imshow(images[0][i], cmap=plt.cm.gray)\n",
    "        axes[i].set_title(\"sum %.3f, min %.3f, max %.3f\"  % (np.sum(images[0][i]), np.min(images[0][i]), np.max(images[0][i])))\n",
    "    plt.show()\n",
    "\n",
    "def plot_error_over_time(timesteps, error, rrmse):\n",
    "    plt.plot(range(timesteps), np.log2(error), label=\"Error (y_true, y_predict\")\n",
    "    plt.plot(range(timesteps), np.log2(rrmse), label=\"RRMSE (x_true, x_predict_k)\")\n",
    "    plt.xticks(range(timesteps))\n",
    "    plt.xlabel(\"Timestep (t)\")\n",
    "    plt.ylabel(\"Error\")\n",
    "    plt.show()"
   ]
  },
  {
   "cell_type": "markdown",
   "id": "c9b3c1ca-fb89-413e-bd9a-7c963b105284",
   "metadata": {},
   "source": [
    "#### Laplace deblur/sharpen kernel"
   ]
  },
  {
   "cell_type": "code",
   "execution_count": null,
   "id": "6ee66552-a744-449c-9cb9-2aebcaebf44b",
   "metadata": {},
   "outputs": [],
   "source": [
    "%%time\n",
    "laplace_scale = 1.0\n",
    "# laplace_deblur = np.array([[0, -1,  0], [-1,  5, -1], [0, -1,  0]], dtype=np.float32)\n",
    "laplace_deblur = np.array([[0, -laplace_scale,  0], [-laplace_scale,  1.0 + 4*laplace_scale, -laplace_scale], [0, -laplace_scale,  0]])\n",
    "# laplace_deblur = np.array([[0.0, 0.0,  0.0], [0.0,  1.0, 0.0], [0.0, 0.0,  0.0]])\n",
    "delta = np.array([[0.0, 0.0,  0.0], [0.0,  1.0, 0.0], [0.0, 0.0,  0.0]])\n",
    "\n",
    "# print(np.sum((delta - gaussian(laplace_deblur))**2))\n",
    "# io.imshow(delta-gaussian(laplace_deblur))\n",
    "# io.show()"
   ]
  },
  {
   "cell_type": "markdown",
   "id": "0aca0425-841a-445c-808d-95d8683f81bc",
   "metadata": {},
   "source": [
    "#### Params of algorithm execution"
   ]
  },
  {
   "cell_type": "code",
   "execution_count": null,
   "id": "198001a6-81fa-400b-af57-25d649fa832a",
   "metadata": {
    "tags": []
   },
   "outputs": [],
   "source": [
    "%%time\n",
    "x_true = color.rgb2gray(data.astronaut())\n",
    "# io.imshow(x_true, cmap=plt.cm.gray)\n",
    "# io.show()"
   ]
  },
  {
   "cell_type": "code",
   "execution_count": null,
   "id": "4fe8e50f-33a7-4be5-a8db-686ae4400cc3",
   "metadata": {
    "tags": []
   },
   "outputs": [],
   "source": [
    "%%time\n",
    "# number of y low resolution images\n",
    "num_y_samples = 10\n",
    "# controls the size of low resolution image dimensions\n",
    "# note: use a value which results in integer arithmetic\n",
    "downsample_factor = 0.5 \n",
    "x_img_dim = np.int32(x_true.shape[0])\n",
    "y_img_dim = np.int32(x_img_dim * downsample_factor)\n",
    "upsample_factor = np.float32(x_img_dim / y_img_dim)\n",
    "\n",
    "max_iter = np.int32(5)"
   ]
  },
  {
   "cell_type": "markdown",
   "id": "19222b2e-78c9-4523-ab1f-5e367e5f0a74",
   "metadata": {
    "tags": []
   },
   "source": [
    "#### Storage for per-iteration metrics (debugging)"
   ]
  },
  {
   "cell_type": "code",
   "execution_count": null,
   "id": "1a0b0cd2-822a-4b73-88f2-bb2358d41330",
   "metadata": {
    "tags": []
   },
   "outputs": [],
   "source": [
    "%%time\n",
    "x_estimates = np.ndarray((max_iter, x_img_dim, x_img_dim), dtype=np.float32)\n",
    "x_error = np.zeros(max_iter, dtype=np.float32)\n",
    "x_rrmse = np.zeros(max_iter, dtype=np.float32)"
   ]
  },
  {
   "cell_type": "markdown",
   "id": "664c63d7-48f4-4734-9e7a-6cbbabe87040",
   "metadata": {},
   "source": [
    "#### Generate initial low-resolution images (assumed to be from imaging device - camera, telescope, etc.)"
   ]
  },
  {
   "cell_type": "code",
   "execution_count": null,
   "id": "28d25239-c586-4fc6-b3b5-9900a53912c2",
   "metadata": {},
   "outputs": [],
   "source": [
    "%%time\n",
    "\n",
    "y_true = np.ndarray((num_y_samples, y_img_dim, y_img_dim), dtype=np.float32)\n",
    "\n",
    "x_true_downsampled = rescale(x_true, downsample_factor, anti_aliasing=True, order=3) # bicubic\n",
    "for k in range(num_y_samples):\n",
    "    y_true[k] = random_noise(x_true_downsampled)\n",
    "\n",
    "# for k in range(num_y_samples):\n",
    "#     y_true[k] = random_noise(zoom(gaussian(x_true), downsample_factor, order=3))\n",
    "\n",
    "# display_image_stack_block(2, y_true)"
   ]
  },
  {
   "cell_type": "markdown",
   "id": "ad4dc09d-8e26-4eb5-86f3-e43bc1ce4c25",
   "metadata": {
    "tags": []
   },
   "source": [
    "#### Predict initial estimate of high-resolution image (x<sub>0</sub>)"
   ]
  },
  {
   "cell_type": "code",
   "execution_count": null,
   "id": "5c3462ec-86a3-4409-9bd8-df0848f93410",
   "metadata": {},
   "outputs": [],
   "source": [
    "%%time\n",
    "\n",
    "x_predict = rescale(np.average(y_true, axis=0), upsample_factor, order=3)\n",
    "# Note to self: what do we do about values in image being negative during processing??\n",
    "# x_predict = rescale_intensity(x_predict, out_range=(0.0, 1.0))\n",
    "# io.imshow(x_predict, cmap=plt.cm.gray)\n",
    "# io.show()"
   ]
  },
  {
   "cell_type": "markdown",
   "id": "c3c3f75f-4c2c-438c-87a6-81339ff718d5",
   "metadata": {},
   "source": [
    "#### Perform IBP over t iterations"
   ]
  },
  {
   "cell_type": "code",
   "execution_count": null,
   "id": "9603d6ba-e91b-4ed0-85ca-ee13e8aaaed9",
   "metadata": {},
   "outputs": [],
   "source": [
    "def do_convolution(image):\n",
    "    return convolve2d(image, laplace_deblur, mode=\"same\")"
   ]
  },
  {
   "cell_type": "code",
   "execution_count": null,
   "id": "c997f738-42de-4b89-8905-b14aec10ab12",
   "metadata": {},
   "outputs": [],
   "source": [
    "%%time\n",
    "\n",
    "current_iter = np.int32(0)\n",
    "\n",
    "while current_iter < max_iter:\n",
    "    # print(\"Processing iteration %d...\" % current_iter)\n",
    "\n",
    "    # Predict low resolution images from high resolution image\n",
    "    # note: probably a terrible way to do it atm...\n",
    "    y_predict = np.ndarray((num_y_samples, y_img_dim, y_img_dim), dtype=np.float32)\n",
    "    for k in range(num_y_samples):\n",
    "        y_predict[k] = zoom(gaussian(x_predict), downsample_factor)\n",
    "    \n",
    "    # Calculate the error between low_res and low_res_predicted\n",
    "    l2norm_sum_squares = 0.0\n",
    "    for k in range(num_y_samples):\n",
    "        l2norm_sum_squares = l2norm_sum_squares + np.linalg.norm(y_true[k] - y_predict[k])**2\n",
    "    error = np.sqrt(1.0/num_y_samples * l2norm_sum_squares)\n",
    "    # print(\"Iter %d error: %f...\" % (current_iter, error))\n",
    "    x_error[current_iter] = error\n",
    "\n",
    "    # Make high resolution version of low res predicted\n",
    "    y_true_pred_diff = zoom(y_true - y_predict, (1, int(upsample_factor), int(upsample_factor)))\n",
    "\n",
    "    # Convolve each image with sharpen filter\n",
    "    for k in range(num_y_samples):\n",
    "        # convolve with laplacian deblur, trim edges (padded during convolution)\n",
    "        y_true_pred_diff[k] = convolve2d(y_true_pred_diff[k], laplace_deblur, mode=\"same\") #[1:x_img_dim+1, 1:x_img_dim+1]\n",
    "    \n",
    "    # Predict high resolution image\n",
    "    x_new_predict = np.zeros_like(x_predict)\n",
    "    sum_diff = np.sum(y_true_pred_diff, axis=0)\n",
    "    # weight = max(min(error, 1.0), 0.0) # clamp func for at most 1.0 multiplier\n",
    "    # weight = max(min(1.0/error, 1.0), 0.0)\n",
    "    weight = 0.5\n",
    "    # print(\"Iter %d weight: %f\" % (current_iter, weight))\n",
    "    x_new_predict = x_predict + sum_diff * 1.0/num_y_samples * weight\n",
    "    rrmse = mean_squared_error(x_true, x_new_predict, squared=False) * 100.0\n",
    "    # print(\"x_true min/max: %f, %f...\" % (np.min(x_true), np.max(x_true)))\n",
    "    # print(\"x_pred min/max: %f, %f...\" % (np.min(x_new_predict), np.max(x_new_predict)))\n",
    "    x_rrmse[current_iter] = rrmse\n",
    "    # print(\"Iter %d rrmse %f...\\n\" % (current_iter, rrmse))\n",
    "    np.copyto(x_predict, x_new_predict)\n",
    "    np.copyto(x_estimates[current_iter], x_new_predict)\n",
    "    current_iter += 1"
   ]
  },
  {
   "cell_type": "code",
   "execution_count": null,
   "id": "652b40d4-b898-427a-b226-12d08eb5b5bf",
   "metadata": {},
   "outputs": [],
   "source": [
    "# display_image_stack(x_true, x_predict, np.absolute(x_true - x_predict), y_predict[0])"
   ]
  },
  {
   "cell_type": "code",
   "execution_count": null,
   "id": "6c17ede2-ed35-491f-9eb7-fcc1d3e1a22d",
   "metadata": {},
   "outputs": [],
   "source": [
    "# display_image_stack_block(max_iter, x_estimates)"
   ]
  },
  {
   "cell_type": "code",
   "execution_count": null,
   "id": "cdc9d95a-1c8e-421f-9127-7f82748c29d0",
   "metadata": {},
   "outputs": [],
   "source": [
    "plot_error_over_time(max_iter, x_error, x_rrmse)"
   ]
  },
  {
   "cell_type": "code",
   "execution_count": null,
   "id": "c1fc4ac4-086b-45bf-915f-86640276e1c7",
   "metadata": {},
   "outputs": [],
   "source": [
    "print(\"Finished processing...\")"
   ]
  }
 ],
 "metadata": {
  "kernelspec": {
   "display_name": "Python 3 (ipykernel)",
   "language": "python",
   "name": "python3"
  },
  "language_info": {
   "codemirror_mode": {
    "name": "ipython",
    "version": 3
   },
   "file_extension": ".py",
   "mimetype": "text/x-python",
   "name": "python",
   "nbconvert_exporter": "python",
   "pygments_lexer": "ipython3",
   "version": "3.10.2"
  }
 },
 "nbformat": 4,
 "nbformat_minor": 5
}
